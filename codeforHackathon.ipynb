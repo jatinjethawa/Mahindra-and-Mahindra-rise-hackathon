{
 "cells": [
  {
   "cell_type": "code",
   "execution_count": 1,
   "metadata": {},
   "outputs": [],
   "source": [
    "#Importing libraries\n",
    "import pandas as pd\n",
    "import numpy as np\n",
    "import datetime\n",
    "from math import sqrt\n",
    "from sklearn.model_selection import train_test_split\n",
    "from sklearn.metrics import accuracy_score,roc_auc_score\n",
    "import xgboost as xgb\n"
   ]
  },
  {
   "cell_type": "code",
   "execution_count": 158,
   "metadata": {},
   "outputs": [],
   "source": [
    "train=pd.read_csv('E:\\\\aegis\\\\bookspdf\\\\Train.csv',header=0)\n",
    "test=pd.read_csv('E:\\\\aegis\\\\bookspdf\\\\testdataset.csv')"
   ]
  },
  {
   "cell_type": "code",
   "execution_count": 8,
   "metadata": {},
   "outputs": [
    {
     "data": {
      "text/html": [
       "<div>\n",
       "<style scoped>\n",
       "    .dataframe tbody tr th:only-of-type {\n",
       "        vertical-align: middle;\n",
       "    }\n",
       "\n",
       "    .dataframe tbody tr th {\n",
       "        vertical-align: top;\n",
       "    }\n",
       "\n",
       "    .dataframe thead th {\n",
       "        text-align: right;\n",
       "    }\n",
       "</style>\n",
       "<table border=\"1\" class=\"dataframe\">\n",
       "  <thead>\n",
       "    <tr style=\"text-align: right;\">\n",
       "      <th></th>\n",
       "      <th>Column1</th>\n",
       "      <th>Column2</th>\n",
       "      <th>Column3</th>\n",
       "      <th>Column4</th>\n",
       "      <th>Column5</th>\n",
       "      <th>Column6</th>\n",
       "      <th>Column7</th>\n",
       "      <th>Column8</th>\n",
       "      <th>Column9</th>\n",
       "      <th>Column10</th>\n",
       "      <th>...</th>\n",
       "      <th>Column20</th>\n",
       "      <th>Column21</th>\n",
       "      <th>Column22</th>\n",
       "      <th>Column23</th>\n",
       "      <th>Column24</th>\n",
       "      <th>Column25</th>\n",
       "      <th>Column26</th>\n",
       "      <th>Column27</th>\n",
       "      <th>Column28</th>\n",
       "      <th>Target</th>\n",
       "    </tr>\n",
       "  </thead>\n",
       "  <tbody>\n",
       "    <tr>\n",
       "      <th>0</th>\n",
       "      <td>1</td>\n",
       "      <td>D452</td>\n",
       "      <td>ARO-2201</td>\n",
       "      <td>PNM0015750</td>\n",
       "      <td>LNM011683</td>\n",
       "      <td>05-2016</td>\n",
       "      <td>9.531001e+09</td>\n",
       "      <td>VAR SULP TT3</td>\n",
       "      <td>Col-6930</td>\n",
       "      <td>SC-80722</td>\n",
       "      <td>...</td>\n",
       "      <td>N</td>\n",
       "      <td>NaN</td>\n",
       "      <td>1000.0</td>\n",
       "      <td>150.0</td>\n",
       "      <td>MFTRV9754</td>\n",
       "      <td>MFTRC322</td>\n",
       "      <td>USG3</td>\n",
       "      <td>LOTYPE1000</td>\n",
       "      <td>APHRNG1692</td>\n",
       "      <td>0</td>\n",
       "    </tr>\n",
       "    <tr>\n",
       "      <th>1</th>\n",
       "      <td>2</td>\n",
       "      <td>E919</td>\n",
       "      <td>ARO-2917</td>\n",
       "      <td>PSA0014837</td>\n",
       "      <td>LSA011380</td>\n",
       "      <td>04-2016</td>\n",
       "      <td>9.490024e+09</td>\n",
       "      <td>VAR SULP TT3</td>\n",
       "      <td>Col-6930</td>\n",
       "      <td>SC-80722</td>\n",
       "      <td>...</td>\n",
       "      <td>N</td>\n",
       "      <td>NaN</td>\n",
       "      <td>1600.0</td>\n",
       "      <td>100.0</td>\n",
       "      <td>MFTRV9754</td>\n",
       "      <td>MFTRC322</td>\n",
       "      <td>USG4</td>\n",
       "      <td>LOTYPE500</td>\n",
       "      <td>APFPTV141468</td>\n",
       "      <td>0</td>\n",
       "    </tr>\n",
       "    <tr>\n",
       "      <th>2</th>\n",
       "      <td>3</td>\n",
       "      <td>C818</td>\n",
       "      <td>ARO-4441</td>\n",
       "      <td>PRAJV15218</td>\n",
       "      <td>LRAV14709</td>\n",
       "      <td>02-2016</td>\n",
       "      <td>9.160056e+09</td>\n",
       "      <td>VAR SULP TT3</td>\n",
       "      <td>Col-6930</td>\n",
       "      <td>SC-80722</td>\n",
       "      <td>...</td>\n",
       "      <td>N</td>\n",
       "      <td>NaN</td>\n",
       "      <td>1000.0</td>\n",
       "      <td>100.0</td>\n",
       "      <td>MFTRV9754</td>\n",
       "      <td>MFTRC322</td>\n",
       "      <td>USG1</td>\n",
       "      <td>LOTYPE500</td>\n",
       "      <td>APFPTV154265</td>\n",
       "      <td>0</td>\n",
       "    </tr>\n",
       "    <tr>\n",
       "      <th>3</th>\n",
       "      <td>4</td>\n",
       "      <td>E919</td>\n",
       "      <td>ARO-4081</td>\n",
       "      <td>PGT0014425</td>\n",
       "      <td>LGT053601</td>\n",
       "      <td>09-2016</td>\n",
       "      <td>9.402105e+09</td>\n",
       "      <td>VAR SULP DI TT3</td>\n",
       "      <td>Col-6930</td>\n",
       "      <td>SC-168364</td>\n",
       "      <td>...</td>\n",
       "      <td>N</td>\n",
       "      <td>NaN</td>\n",
       "      <td>1000.0</td>\n",
       "      <td>100.0</td>\n",
       "      <td>MFTRV9754</td>\n",
       "      <td>MFTRC322</td>\n",
       "      <td>USG1</td>\n",
       "      <td>LOTYPE500</td>\n",
       "      <td>APFPTV2784</td>\n",
       "      <td>0</td>\n",
       "    </tr>\n",
       "    <tr>\n",
       "      <th>4</th>\n",
       "      <td>5</td>\n",
       "      <td>D452</td>\n",
       "      <td>ARO-2201</td>\n",
       "      <td>PNM0015750</td>\n",
       "      <td>LNM011683</td>\n",
       "      <td>11-2015</td>\n",
       "      <td>9.530007e+09</td>\n",
       "      <td>VAR SULP DI TT3 PS</td>\n",
       "      <td>Col-4259</td>\n",
       "      <td>SC-80722</td>\n",
       "      <td>...</td>\n",
       "      <td>N</td>\n",
       "      <td>NaN</td>\n",
       "      <td>1500.0</td>\n",
       "      <td>150.0</td>\n",
       "      <td>MFTRV9754</td>\n",
       "      <td>MFTRC322</td>\n",
       "      <td>USG1</td>\n",
       "      <td>LOTYPE1000</td>\n",
       "      <td>APHRNG24824</td>\n",
       "      <td>1</td>\n",
       "    </tr>\n",
       "  </tbody>\n",
       "</table>\n",
       "<p>5 rows × 29 columns</p>\n",
       "</div>"
      ],
      "text/plain": [
       "   Column1 Column2   Column3     Column4    Column5  Column6       Column7  \\\n",
       "0        1    D452  ARO-2201  PNM0015750  LNM011683  05-2016  9.531001e+09   \n",
       "1        2    E919  ARO-2917  PSA0014837  LSA011380  04-2016  9.490024e+09   \n",
       "2        3    C818  ARO-4441  PRAJV15218  LRAV14709  02-2016  9.160056e+09   \n",
       "3        4    E919  ARO-4081  PGT0014425  LGT053601  09-2016  9.402105e+09   \n",
       "4        5    D452  ARO-2201  PNM0015750  LNM011683  11-2015  9.530007e+09   \n",
       "\n",
       "              Column8   Column9   Column10  ...   Column20 Column21 Column22  \\\n",
       "0        VAR SULP TT3  Col-6930   SC-80722  ...          N      NaN   1000.0   \n",
       "1        VAR SULP TT3  Col-6930   SC-80722  ...          N      NaN   1600.0   \n",
       "2        VAR SULP TT3  Col-6930   SC-80722  ...          N      NaN   1000.0   \n",
       "3     VAR SULP DI TT3  Col-6930  SC-168364  ...          N      NaN   1000.0   \n",
       "4  VAR SULP DI TT3 PS  Col-4259   SC-80722  ...          N      NaN   1500.0   \n",
       "\n",
       "   Column23   Column24  Column25 Column26    Column27      Column28 Target  \n",
       "0     150.0  MFTRV9754  MFTRC322     USG3  LOTYPE1000    APHRNG1692      0  \n",
       "1     100.0  MFTRV9754  MFTRC322     USG4   LOTYPE500  APFPTV141468      0  \n",
       "2     100.0  MFTRV9754  MFTRC322     USG1   LOTYPE500  APFPTV154265      0  \n",
       "3     100.0  MFTRV9754  MFTRC322     USG1   LOTYPE500    APFPTV2784      0  \n",
       "4     150.0  MFTRV9754  MFTRC322     USG1  LOTYPE1000   APHRNG24824      1  \n",
       "\n",
       "[5 rows x 29 columns]"
      ]
     },
     "execution_count": 8,
     "metadata": {},
     "output_type": "execute_result"
    }
   ],
   "source": [
    "train.head()"
   ]
  },
  {
   "cell_type": "code",
   "execution_count": 57,
   "metadata": {},
   "outputs": [
    {
     "data": {
      "text/plain": [
       "(217744, 29)"
      ]
     },
     "execution_count": 57,
     "metadata": {},
     "output_type": "execute_result"
    }
   ],
   "source": [
    "train.shape"
   ]
  },
  {
   "cell_type": "code",
   "execution_count": 9,
   "metadata": {},
   "outputs": [
    {
     "data": {
      "text/html": [
       "<div>\n",
       "<style scoped>\n",
       "    .dataframe tbody tr th:only-of-type {\n",
       "        vertical-align: middle;\n",
       "    }\n",
       "\n",
       "    .dataframe tbody tr th {\n",
       "        vertical-align: top;\n",
       "    }\n",
       "\n",
       "    .dataframe thead th {\n",
       "        text-align: right;\n",
       "    }\n",
       "</style>\n",
       "<table border=\"1\" class=\"dataframe\">\n",
       "  <thead>\n",
       "    <tr style=\"text-align: right;\">\n",
       "      <th></th>\n",
       "      <th>Column1</th>\n",
       "      <th>Column2</th>\n",
       "      <th>Column3</th>\n",
       "      <th>Column4</th>\n",
       "      <th>Column5</th>\n",
       "      <th>Column6</th>\n",
       "      <th>Column7</th>\n",
       "      <th>Column8</th>\n",
       "      <th>Column9</th>\n",
       "      <th>Column10</th>\n",
       "      <th>...</th>\n",
       "      <th>Column20</th>\n",
       "      <th>Column21</th>\n",
       "      <th>Column22</th>\n",
       "      <th>Column23</th>\n",
       "      <th>Column24</th>\n",
       "      <th>Column25</th>\n",
       "      <th>Column26</th>\n",
       "      <th>Column27</th>\n",
       "      <th>Column28</th>\n",
       "      <th>Target</th>\n",
       "    </tr>\n",
       "  </thead>\n",
       "  <tbody>\n",
       "    <tr>\n",
       "      <th>217739</th>\n",
       "      <td>217740</td>\n",
       "      <td>B191</td>\n",
       "      <td>ARO-4742</td>\n",
       "      <td>PKSA016674</td>\n",
       "      <td>LKSA18434</td>\n",
       "      <td>02-2017</td>\n",
       "      <td>9.313002e+09</td>\n",
       "      <td>VAR SULP TT3</td>\n",
       "      <td>Col-4259</td>\n",
       "      <td>SC-80722</td>\n",
       "      <td>...</td>\n",
       "      <td>N</td>\n",
       "      <td>NaN</td>\n",
       "      <td>2000.0</td>\n",
       "      <td>80.0</td>\n",
       "      <td>MFTRV9754</td>\n",
       "      <td>MFTRC322</td>\n",
       "      <td>USG1</td>\n",
       "      <td>LOTYPE1000</td>\n",
       "      <td>APHRNG1692</td>\n",
       "      <td>0</td>\n",
       "    </tr>\n",
       "    <tr>\n",
       "      <th>217740</th>\n",
       "      <td>217741</td>\n",
       "      <td>B191</td>\n",
       "      <td>ARO-4005</td>\n",
       "      <td>PPNJ16522</td>\n",
       "      <td>LPB026861</td>\n",
       "      <td>03-2017</td>\n",
       "      <td>9.363311e+09</td>\n",
       "      <td>VAR SULP TT4</td>\n",
       "      <td>Col-6930</td>\n",
       "      <td>SC-40875</td>\n",
       "      <td>...</td>\n",
       "      <td>N</td>\n",
       "      <td>NaN</td>\n",
       "      <td>1150.0</td>\n",
       "      <td>120.0</td>\n",
       "      <td>MFTRV9754</td>\n",
       "      <td>MFTRC322</td>\n",
       "      <td>USG4</td>\n",
       "      <td>LOTYPE500</td>\n",
       "      <td>APFPTV62618</td>\n",
       "      <td>0</td>\n",
       "    </tr>\n",
       "    <tr>\n",
       "      <th>217741</th>\n",
       "      <td>217742</td>\n",
       "      <td>D452</td>\n",
       "      <td>ARO-2201</td>\n",
       "      <td>PAM0039938</td>\n",
       "      <td>LAM284922</td>\n",
       "      <td>02-2017</td>\n",
       "      <td>9.521212e+09</td>\n",
       "      <td>VAR SULP DI TT3 PS</td>\n",
       "      <td>Col-4259</td>\n",
       "      <td>SC-80722</td>\n",
       "      <td>...</td>\n",
       "      <td>N</td>\n",
       "      <td>NaN</td>\n",
       "      <td>2000.0</td>\n",
       "      <td>150.0</td>\n",
       "      <td>MFTRV9754</td>\n",
       "      <td>MFTRC322</td>\n",
       "      <td>USG2</td>\n",
       "      <td>LOTYPE1000</td>\n",
       "      <td>APHRNG1692</td>\n",
       "      <td>0</td>\n",
       "    </tr>\n",
       "    <tr>\n",
       "      <th>217742</th>\n",
       "      <td>217743</td>\n",
       "      <td>D452</td>\n",
       "      <td>ARO-4910</td>\n",
       "      <td>PANT016983</td>\n",
       "      <td>LANT56061</td>\n",
       "      <td>05-2017</td>\n",
       "      <td>9.560072e+09</td>\n",
       "      <td>VAR SULP TT4</td>\n",
       "      <td>Col-6930</td>\n",
       "      <td>SC-67221</td>\n",
       "      <td>...</td>\n",
       "      <td>N</td>\n",
       "      <td>NaN</td>\n",
       "      <td>1150.0</td>\n",
       "      <td>650.0</td>\n",
       "      <td>MFTRV9754</td>\n",
       "      <td>MFTRC322</td>\n",
       "      <td>USG1</td>\n",
       "      <td>LOTYPE1000</td>\n",
       "      <td>APHRNG1692</td>\n",
       "      <td>0</td>\n",
       "    </tr>\n",
       "    <tr>\n",
       "      <th>217743</th>\n",
       "      <td>217744</td>\n",
       "      <td>E919</td>\n",
       "      <td>ARO-4998</td>\n",
       "      <td>PSAH011128</td>\n",
       "      <td>LSH017291</td>\n",
       "      <td>12-2015</td>\n",
       "      <td>9.412202e+09</td>\n",
       "      <td>VAR SULP DI TT3 PS</td>\n",
       "      <td>Col-4259</td>\n",
       "      <td>SC-80722</td>\n",
       "      <td>...</td>\n",
       "      <td>N</td>\n",
       "      <td>NaN</td>\n",
       "      <td>NaN</td>\n",
       "      <td>NaN</td>\n",
       "      <td>MFTRV9754</td>\n",
       "      <td>MFTRC322</td>\n",
       "      <td>USG4</td>\n",
       "      <td>LOTYPE500</td>\n",
       "      <td>APFPTV154265</td>\n",
       "      <td>0</td>\n",
       "    </tr>\n",
       "  </tbody>\n",
       "</table>\n",
       "<p>5 rows × 29 columns</p>\n",
       "</div>"
      ],
      "text/plain": [
       "        Column1 Column2   Column3     Column4    Column5  Column6  \\\n",
       "217739   217740    B191  ARO-4742  PKSA016674  LKSA18434  02-2017   \n",
       "217740   217741    B191  ARO-4005   PPNJ16522  LPB026861  03-2017   \n",
       "217741   217742    D452  ARO-2201  PAM0039938  LAM284922  02-2017   \n",
       "217742   217743    D452  ARO-4910  PANT016983  LANT56061  05-2017   \n",
       "217743   217744    E919  ARO-4998  PSAH011128  LSH017291  12-2015   \n",
       "\n",
       "             Column7             Column8   Column9  Column10  ...   Column20  \\\n",
       "217739  9.313002e+09        VAR SULP TT3  Col-4259  SC-80722  ...          N   \n",
       "217740  9.363311e+09        VAR SULP TT4  Col-6930  SC-40875  ...          N   \n",
       "217741  9.521212e+09  VAR SULP DI TT3 PS  Col-4259  SC-80722  ...          N   \n",
       "217742  9.560072e+09        VAR SULP TT4  Col-6930  SC-67221  ...          N   \n",
       "217743  9.412202e+09  VAR SULP DI TT3 PS  Col-4259  SC-80722  ...          N   \n",
       "\n",
       "       Column21 Column22  Column23   Column24  Column25 Column26    Column27  \\\n",
       "217739      NaN   2000.0      80.0  MFTRV9754  MFTRC322     USG1  LOTYPE1000   \n",
       "217740      NaN   1150.0     120.0  MFTRV9754  MFTRC322     USG4   LOTYPE500   \n",
       "217741      NaN   2000.0     150.0  MFTRV9754  MFTRC322     USG2  LOTYPE1000   \n",
       "217742      NaN   1150.0     650.0  MFTRV9754  MFTRC322     USG1  LOTYPE1000   \n",
       "217743      NaN      NaN       NaN  MFTRV9754  MFTRC322     USG4   LOTYPE500   \n",
       "\n",
       "            Column28 Target  \n",
       "217739    APHRNG1692      0  \n",
       "217740   APFPTV62618      0  \n",
       "217741    APHRNG1692      0  \n",
       "217742    APHRNG1692      0  \n",
       "217743  APFPTV154265      0  \n",
       "\n",
       "[5 rows x 29 columns]"
      ]
     },
     "execution_count": 9,
     "metadata": {},
     "output_type": "execute_result"
    }
   ],
   "source": [
    "train.tail()"
   ]
  },
  {
   "cell_type": "code",
   "execution_count": 10,
   "metadata": {},
   "outputs": [
    {
     "name": "stdout",
     "output_type": "stream",
     "text": [
      "<class 'pandas.core.frame.DataFrame'>\n",
      "RangeIndex: 217744 entries, 0 to 217743\n",
      "Data columns (total 29 columns):\n",
      "Column1     217744 non-null int64\n",
      "Column2     217744 non-null object\n",
      "Column3     217744 non-null object\n",
      "Column4     217744 non-null object\n",
      "Column5     217744 non-null object\n",
      "Column6     217744 non-null object\n",
      "Column7     204967 non-null float64\n",
      "Column8     217744 non-null object\n",
      "Column9     217744 non-null object\n",
      "Column10    217744 non-null object\n",
      "Column11    217744 non-null object\n",
      "Column12    42819 non-null object\n",
      "Column13    217744 non-null object\n",
      "Column14    217744 non-null int64\n",
      "Column15    27143 non-null float64\n",
      "Column16    153857 non-null object\n",
      "Column17    167204 non-null object\n",
      "Column18    0 non-null float64\n",
      "Column19    26017 non-null object\n",
      "Column20    217744 non-null object\n",
      "Column21    18218 non-null object\n",
      "Column22    180534 non-null float64\n",
      "Column23    177653 non-null float64\n",
      "Column24    217744 non-null object\n",
      "Column25    217744 non-null object\n",
      "Column26    217744 non-null object\n",
      "Column27    217744 non-null object\n",
      "Column28    217744 non-null object\n",
      "Target      217744 non-null int64\n",
      "dtypes: float64(5), int64(3), object(21)\n",
      "memory usage: 48.2+ MB\n"
     ]
    }
   ],
   "source": [
    "train.info()"
   ]
  },
  {
   "cell_type": "markdown",
   "metadata": {},
   "source": [
    "#converting bad data to good data"
   ]
  },
  {
   "cell_type": "code",
   "execution_count": 159,
   "metadata": {},
   "outputs": [
    {
     "name": "stdout",
     "output_type": "stream",
     "text": [
      "datetime64[ns]\n"
     ]
    }
   ],
   "source": [
    "train['Column6']=pd.to_datetime(train['Column6'])\n",
    "print(train['Column6'].dtypes)"
   ]
  },
  {
   "cell_type": "code",
   "execution_count": 160,
   "metadata": {},
   "outputs": [
    {
     "name": "stdout",
     "output_type": "stream",
     "text": [
      "<class 'pandas.core.frame.DataFrame'>\n",
      "RangeIndex: 217744 entries, 0 to 217743\n",
      "Data columns (total 29 columns):\n",
      "Column1     217744 non-null int64\n",
      "Column2     217744 non-null object\n",
      "Column3     217744 non-null object\n",
      "Column4     217744 non-null object\n",
      "Column5     217744 non-null object\n",
      "Column6     217744 non-null datetime64[ns]\n",
      "Column7     204967 non-null float64\n",
      "Column8     217744 non-null object\n",
      "Column9     217744 non-null object\n",
      "Column10    217744 non-null object\n",
      "Column11    217744 non-null object\n",
      "Column12    42819 non-null object\n",
      "Column13    217744 non-null object\n",
      "Column14    217744 non-null int64\n",
      "Column15    27143 non-null float64\n",
      "Column16    153857 non-null object\n",
      "Column17    167204 non-null object\n",
      "Column18    0 non-null float64\n",
      "Column19    26017 non-null object\n",
      "Column20    217744 non-null object\n",
      "Column21    18218 non-null object\n",
      "Column22    180534 non-null float64\n",
      "Column23    177653 non-null float64\n",
      "Column24    217744 non-null object\n",
      "Column25    217744 non-null object\n",
      "Column26    217744 non-null object\n",
      "Column27    217744 non-null object\n",
      "Column28    217744 non-null object\n",
      "Target      217744 non-null int64\n",
      "dtypes: datetime64[ns](1), float64(5), int64(3), object(20)\n",
      "memory usage: 48.2+ MB\n"
     ]
    }
   ],
   "source": [
    "train.info()"
   ]
  },
  {
   "cell_type": "code",
   "execution_count": 161,
   "metadata": {},
   "outputs": [],
   "source": [
    "train['Column3']=train['Column3'].apply(lambda x:x.replace('ARO-',''))\n",
    "train['Column3']=pd.to_numeric(train['Column3'],errors='coerce')\n"
   ]
  },
  {
   "cell_type": "code",
   "execution_count": 162,
   "metadata": {},
   "outputs": [],
   "source": [
    "test['Column3']=test['Column3'].apply(lambda x:x.replace('ARO-',''))\n",
    "test['Column3']=pd.to_numeric(test['Column3'],errors='coerce')"
   ]
  },
  {
   "cell_type": "code",
   "execution_count": 163,
   "metadata": {},
   "outputs": [
    {
     "data": {
      "text/plain": [
       "dtype('int64')"
      ]
     },
     "execution_count": 163,
     "metadata": {},
     "output_type": "execute_result"
    }
   ],
   "source": [
    "train['Column3'].dtypes"
   ]
  },
  {
   "cell_type": "code",
   "execution_count": 41,
   "metadata": {},
   "outputs": [
    {
     "data": {
      "text/plain": [
       "LSA011380    3641\n",
       "LIN015660    3328\n",
       "LSH032247    2994\n",
       "LSKS12968    2949\n",
       "LSA037981    2942\n",
       "LKSA18434    2775\n",
       "LIGM11973    2733\n",
       "LBAL19777    2671\n",
       "LKD039864    2661\n",
       "LSN013065    2277\n",
       "LSH017291    2200\n",
       "LSLA15269    2124\n",
       "LKSM28738    1979\n",
       "LATW19806    1916\n",
       "LST064778    1907\n",
       "LPB026861    1883\n",
       "LGT128559    1820\n",
       "LIGB24977    1810\n",
       "LVV017988    1799\n",
       "LNB034106    1609\n",
       "LDM011762    1578\n",
       "LPA011281    1500\n",
       "LMS018428    1493\n",
       "LANT32096    1485\n",
       "LMN017243    1432\n",
       "LRAW28064    1420\n",
       "LKRN67880    1360\n",
       "LJTR16460    1323\n",
       "LSJ083157    1300\n",
       "LNEM17487    1289\n",
       "             ... \n",
       "LST055604       1\n",
       "LPV052135       1\n",
       "LSA028812       1\n",
       "LMY056966       1\n",
       "LTI068546       1\n",
       "LSAP32979       1\n",
       "LAM372365       1\n",
       "LSG016785       1\n",
       "LVA019053       1\n",
       "LMAM17770       1\n",
       "LSIA37664       1\n",
       "LBRA52779       1\n",
       "LMP089197       1\n",
       "LTS018919       1\n",
       "LRAJ18539       1\n",
       "LRDA35926       1\n",
       "LSRY16397       1\n",
       "LSKS81016       1\n",
       "LKSM48803       1\n",
       "LIGM41310       1\n",
       "LIN094258       1\n",
       "LMFP14857       1\n",
       "LKSA58120       1\n",
       "LSA058861       1\n",
       "LAUC85660       1\n",
       "LJM121006       1\n",
       "LMG021007       1\n",
       "LAMO36652       1\n",
       "LSAT39841       1\n",
       "LSON43975       1\n",
       "Name: Column5, Length: 540, dtype: int64"
      ]
     },
     "execution_count": 41,
     "metadata": {},
     "output_type": "execute_result"
    }
   ],
   "source": [
    "train['Column5'].value_counts(dropna=True)"
   ]
  },
  {
   "cell_type": "code",
   "execution_count": 42,
   "metadata": {},
   "outputs": [
    {
     "data": {
      "text/plain": [
       "VAR SULP TT4 PS        47911\n",
       "VAR SULP TT4           44548\n",
       "VAR SULP DI TT3        36358\n",
       "VAR SULP DI TT3 PS     34439\n",
       "VAR SULP TT3           25104\n",
       "VAR SULP TT3 PS        15434\n",
       "VAR GCN TT4             7445\n",
       "VAR FE TT3              1973\n",
       "VAR SULP TT4 PS CBC     1229\n",
       "VAR STD TT3             1192\n",
       "VAR STD TT3 REF PS       832\n",
       "VAR FE TT3 REF           699\n",
       "VAR STD TT3 REF          378\n",
       "MMT DX 2WD               110\n",
       "MMT 2WD                   47\n",
       "MMT GCN                   45\n",
       "Name: Column8, dtype: int64"
      ]
     },
     "execution_count": 42,
     "metadata": {},
     "output_type": "execute_result"
    }
   ],
   "source": [
    "train['Column8'].value_counts(dropna=True)"
   ]
  },
  {
   "cell_type": "code",
   "execution_count": 164,
   "metadata": {},
   "outputs": [],
   "source": [
    "train['Column9']=train['Column9'].apply(lambda x:x.replace('Col-',''))\n",
    "train['Column9']=pd.to_numeric(train['Column9'],errors='coerce')"
   ]
  },
  {
   "cell_type": "code",
   "execution_count": 50,
   "metadata": {},
   "outputs": [
    {
     "data": {
      "text/html": [
       "<div>\n",
       "<style scoped>\n",
       "    .dataframe tbody tr th:only-of-type {\n",
       "        vertical-align: middle;\n",
       "    }\n",
       "\n",
       "    .dataframe tbody tr th {\n",
       "        vertical-align: top;\n",
       "    }\n",
       "\n",
       "    .dataframe thead th {\n",
       "        text-align: right;\n",
       "    }\n",
       "</style>\n",
       "<table border=\"1\" class=\"dataframe\">\n",
       "  <thead>\n",
       "    <tr style=\"text-align: right;\">\n",
       "      <th></th>\n",
       "      <th>Column1</th>\n",
       "      <th>Column2</th>\n",
       "      <th>Column3</th>\n",
       "      <th>Column4</th>\n",
       "      <th>Column5</th>\n",
       "      <th>Column6</th>\n",
       "      <th>Column7</th>\n",
       "      <th>Column8</th>\n",
       "      <th>Column9</th>\n",
       "      <th>Column10</th>\n",
       "      <th>...</th>\n",
       "      <th>Column20</th>\n",
       "      <th>Column21</th>\n",
       "      <th>Column22</th>\n",
       "      <th>Column23</th>\n",
       "      <th>Column24</th>\n",
       "      <th>Column25</th>\n",
       "      <th>Column26</th>\n",
       "      <th>Column27</th>\n",
       "      <th>Column28</th>\n",
       "      <th>Target</th>\n",
       "    </tr>\n",
       "  </thead>\n",
       "  <tbody>\n",
       "    <tr>\n",
       "      <th>0</th>\n",
       "      <td>1</td>\n",
       "      <td>D452</td>\n",
       "      <td>2201</td>\n",
       "      <td>PNM0015750</td>\n",
       "      <td>LNM011683</td>\n",
       "      <td>2016-05-01</td>\n",
       "      <td>9.531001e+09</td>\n",
       "      <td>VAR SULP TT3</td>\n",
       "      <td>6930</td>\n",
       "      <td>SC-80722</td>\n",
       "      <td>...</td>\n",
       "      <td>N</td>\n",
       "      <td>NaN</td>\n",
       "      <td>1000.0</td>\n",
       "      <td>150.0</td>\n",
       "      <td>MFTRV9754</td>\n",
       "      <td>MFTRC322</td>\n",
       "      <td>USG3</td>\n",
       "      <td>LOTYPE1000</td>\n",
       "      <td>APHRNG1692</td>\n",
       "      <td>0</td>\n",
       "    </tr>\n",
       "  </tbody>\n",
       "</table>\n",
       "<p>1 rows × 29 columns</p>\n",
       "</div>"
      ],
      "text/plain": [
       "   Column1 Column2  Column3     Column4    Column5    Column6       Column7  \\\n",
       "0        1    D452     2201  PNM0015750  LNM011683 2016-05-01  9.531001e+09   \n",
       "\n",
       "        Column8  Column9  Column10  ...   Column20 Column21 Column22  \\\n",
       "0  VAR SULP TT3     6930  SC-80722  ...          N      NaN   1000.0   \n",
       "\n",
       "   Column23   Column24  Column25 Column26    Column27    Column28 Target  \n",
       "0     150.0  MFTRV9754  MFTRC322     USG3  LOTYPE1000  APHRNG1692      0  \n",
       "\n",
       "[1 rows x 29 columns]"
      ]
     },
     "execution_count": 50,
     "metadata": {},
     "output_type": "execute_result"
    }
   ],
   "source": [
    "train.head(1)"
   ]
  },
  {
   "cell_type": "code",
   "execution_count": 165,
   "metadata": {},
   "outputs": [],
   "source": [
    "test['Column9']=test['Column9'].apply(lambda x:x.replace('Col-',''))\n",
    "test['Column9']=pd.to_numeric(test['Column9'],errors='coerce')"
   ]
  },
  {
   "cell_type": "code",
   "execution_count": 166,
   "metadata": {},
   "outputs": [],
   "source": [
    "train['Column10']=train['Column10'].apply(lambda x:x.replace('SC-',''))\n",
    "train['Column10']=pd.to_numeric(train['Column10'],errors='coerce')"
   ]
  },
  {
   "cell_type": "code",
   "execution_count": 167,
   "metadata": {},
   "outputs": [],
   "source": [
    "test['Column10']=test['Column10'].apply(lambda x:x.replace('SC-',''))\n",
    "test['Column10']=pd.to_numeric(test['Column10'],errors='coerce')"
   ]
  },
  {
   "cell_type": "code",
   "execution_count": 124,
   "metadata": {},
   "outputs": [
    {
     "data": {
      "text/plain": [
       "Type-206    160688\n",
       "Type-326     37396\n",
       "Type-367     13555\n",
       "Type-291      4118\n",
       "Type-240      1987\n",
       "Name: Column11, dtype: int64"
      ]
     },
     "execution_count": 124,
     "metadata": {},
     "output_type": "execute_result"
    }
   ],
   "source": [
    "train['Column11'].value_counts(dropna=False)"
   ]
  },
  {
   "cell_type": "code",
   "execution_count": 56,
   "metadata": {},
   "outputs": [
    {
     "data": {
      "text/plain": [
       "OCP-42415    18372\n",
       "OCP-4707      5486\n",
       "OCP-44334     4994\n",
       "OCP-4815      4001\n",
       "OCP-20068     3252\n",
       "OCP-40056     2109\n",
       "OCP-24915     1110\n",
       "OCP-8258       595\n",
       "OCP-28174      331\n",
       "OCP-15157      314\n",
       "OCP-4912       267\n",
       "OCP-34849      195\n",
       "OCP-15540      192\n",
       "OCP-32097      168\n",
       "OCP-17703      167\n",
       "OCP-35587      115\n",
       "OCP-18451      107\n",
       "OCP-18442       95\n",
       "OCP-18863       84\n",
       "OCP-10062       71\n",
       "OCP-18033       70\n",
       "OCP-21868       50\n",
       "OCP-25494       50\n",
       "OCP-34669       40\n",
       "OCP-37996       40\n",
       "OCP-36129       39\n",
       "OCP-11075       37\n",
       "OCP-28697       34\n",
       "OCP-11567       34\n",
       "OCP-32650       33\n",
       "OCP-23549       32\n",
       "OCP-44138       29\n",
       "OCP-4743        26\n",
       "OCP-31953       25\n",
       "OCP-30016       25\n",
       "OCP-27621       24\n",
       "OCP-10978       24\n",
       "OCP-38893       22\n",
       "OCP-34232       21\n",
       "OCP-17726       20\n",
       "OCP-43322       18\n",
       "OCP-41461       18\n",
       "OCP-23002       17\n",
       "OCP-23161       16\n",
       "OCP-14648       12\n",
       "OCP-38925       11\n",
       "OCP-17739       10\n",
       "OCP-24625        6\n",
       "OCP-18587        5\n",
       "OCP-38783        2\n",
       "OCP-41301        2\n",
       "OCP-28970        2\n",
       "Name: Column12, dtype: int64"
      ]
     },
     "execution_count": 56,
     "metadata": {},
     "output_type": "execute_result"
    }
   ],
   "source": [
    "train['Column12'].value_counts(dropna=True)"
   ]
  },
  {
   "cell_type": "code",
   "execution_count": 168,
   "metadata": {},
   "outputs": [
    {
     "data": {
      "text/plain": [
       "174925"
      ]
     },
     "execution_count": 168,
     "metadata": {},
     "output_type": "execute_result"
    }
   ],
   "source": [
    "train['Column12'].isnull().sum()"
   ]
  },
  {
   "cell_type": "code",
   "execution_count": 169,
   "metadata": {},
   "outputs": [],
   "source": [
    "del train['Column12']\n"
   ]
  },
  {
   "cell_type": "code",
   "execution_count": 170,
   "metadata": {},
   "outputs": [],
   "source": [
    "del test['Column12']"
   ]
  },
  {
   "cell_type": "code",
   "execution_count": 127,
   "metadata": {},
   "outputs": [
    {
     "data": {
      "text/plain": [
       "0"
      ]
     },
     "execution_count": 127,
     "metadata": {},
     "output_type": "execute_result"
    }
   ],
   "source": [
    "train['Column13'].isnull().sum()"
   ]
  },
  {
   "cell_type": "code",
   "execution_count": 129,
   "metadata": {},
   "outputs": [
    {
     "data": {
      "text/plain": [
       "COM1    142479\n",
       "COM3     57633\n",
       "COM2     17632\n",
       "Name: Column13, dtype: int64"
      ]
     },
     "execution_count": 129,
     "metadata": {},
     "output_type": "execute_result"
    }
   ],
   "source": [
    "train['Column13'].value_counts()"
   ]
  },
  {
   "cell_type": "code",
   "execution_count": 130,
   "metadata": {},
   "outputs": [
    {
     "data": {
      "text/plain": [
       "63887"
      ]
     },
     "execution_count": 130,
     "metadata": {},
     "output_type": "execute_result"
    }
   ],
   "source": [
    "train['Column16'].isnull().sum()\n"
   ]
  },
  {
   "cell_type": "code",
   "execution_count": 68,
   "metadata": {},
   "outputs": [
    {
     "data": {
      "text/plain": [
       "N      132021\n",
       "NaN     63887\n",
       "Y       12142\n",
       "S        7410\n",
       "C        2247\n",
       "P          26\n",
       "G          11\n",
       "Name: Column16, dtype: int64"
      ]
     },
     "execution_count": 68,
     "metadata": {},
     "output_type": "execute_result"
    }
   ],
   "source": [
    "train['Column16'].value_counts(dropna=False)"
   ]
  },
  {
   "cell_type": "code",
   "execution_count": 171,
   "metadata": {},
   "outputs": [],
   "source": [
    "#As Nan values are more frequent will drop the column\n",
    "del train['Column16']"
   ]
  },
  {
   "cell_type": "code",
   "execution_count": 172,
   "metadata": {},
   "outputs": [],
   "source": [
    "del test['Column16']"
   ]
  },
  {
   "cell_type": "code",
   "execution_count": 133,
   "metadata": {},
   "outputs": [
    {
     "data": {
      "text/plain": [
       "N      158293\n",
       "NaN     50540\n",
       "Y        8911\n",
       "Name: Column17, dtype: int64"
      ]
     },
     "execution_count": 133,
     "metadata": {},
     "output_type": "execute_result"
    }
   ],
   "source": [
    "train['Column17'].value_counts(dropna=False)"
   ]
  },
  {
   "cell_type": "code",
   "execution_count": 173,
   "metadata": {},
   "outputs": [],
   "source": [
    "del train['Column17']\n",
    "del test['Column17']"
   ]
  },
  {
   "cell_type": "code",
   "execution_count": 174,
   "metadata": {},
   "outputs": [],
   "source": [
    "del train['Column18']\n",
    "del test['Column18']"
   ]
  },
  {
   "cell_type": "code",
   "execution_count": 74,
   "metadata": {},
   "outputs": [
    {
     "data": {
      "text/plain": [
       "NaN    191727\n",
       "M       21501\n",
       "S        4516\n",
       "Name: Column19, dtype: int64"
      ]
     },
     "execution_count": 74,
     "metadata": {},
     "output_type": "execute_result"
    }
   ],
   "source": [
    "train['Column19'].value_counts(dropna=False)"
   ]
  },
  {
   "cell_type": "code",
   "execution_count": 175,
   "metadata": {},
   "outputs": [],
   "source": [
    "del train['Column19']\n",
    "del test['Column19']"
   ]
  },
  {
   "cell_type": "code",
   "execution_count": 176,
   "metadata": {},
   "outputs": [
    {
     "data": {
      "text/plain": [
       "N    217584\n",
       "Y       160\n",
       "Name: Column20, dtype: int64"
      ]
     },
     "execution_count": 176,
     "metadata": {},
     "output_type": "execute_result"
    }
   ],
   "source": [
    "train['Column20'].value_counts(dropna=False)"
   ]
  },
  {
   "cell_type": "code",
   "execution_count": 138,
   "metadata": {},
   "outputs": [
    {
     "data": {
      "text/plain": [
       "NaN    199526\n",
       "A3       8283\n",
       "A2       5761\n",
       "A4       1770\n",
       "A1       1715\n",
       "A5        689\n",
       "Name: Column21, dtype: int64"
      ]
     },
     "execution_count": 138,
     "metadata": {},
     "output_type": "execute_result"
    }
   ],
   "source": [
    "train['Column21'].value_counts(dropna=False)"
   ]
  },
  {
   "cell_type": "code",
   "execution_count": 177,
   "metadata": {},
   "outputs": [],
   "source": [
    "del train['Column21']\n",
    "del test['Column21']"
   ]
  },
  {
   "cell_type": "code",
   "execution_count": 79,
   "metadata": {},
   "outputs": [
    {
     "data": {
      "text/plain": [
       " 1150.0    52613\n",
       "NaN        37210\n",
       " 1500.0    19425\n",
       " 1000.0    18979\n",
       " 2000.0    16094\n",
       " 2500.0    14305\n",
       " 1200.0    10943\n",
       " 1250.0     9063\n",
       " 3000.0     6501\n",
       " 1100.0     5878\n",
       " 1800.0     3226\n",
       " 900.0      1266\n",
       " 800.0      1131\n",
       " 1300.0     1101\n",
       " 1400.0      928\n",
       " 1600.0      927\n",
       " 850.0       922\n",
       " 500.0       813\n",
       " 700.0       702\n",
       " 1050.0      684\n",
       " 1.0         657\n",
       " 2200.0      656\n",
       " 1700.0      576\n",
       " 750.0       467\n",
       " 860.0       449\n",
       " 1350.0      444\n",
       " 2800.0      385\n",
       " 600.0       370\n",
       " 100.0       369\n",
       " 1140.0      318\n",
       "           ...  \n",
       " 436.0         1\n",
       " 2865.0        1\n",
       " 2861.0        1\n",
       " 1233.0        1\n",
       " 460.0         1\n",
       " 678.0         1\n",
       " 122.0         1\n",
       " 144.0         1\n",
       " 178.0         1\n",
       " 1223.0        1\n",
       " 1221.0        1\n",
       " 859.0         1\n",
       " 863.0         1\n",
       " 522.0         1\n",
       " 2415.0        1\n",
       " 72.0          1\n",
       " 1210.0        1\n",
       " 1723.0        1\n",
       " 2756.0        1\n",
       " 1725.0        1\n",
       " 1257.0        1\n",
       " 425.0         1\n",
       " 2874.0        1\n",
       " 112.0         1\n",
       " 1504.0        1\n",
       " 195.0         1\n",
       " 1175.0        1\n",
       " 356.0         1\n",
       " 2869.0        1\n",
       " 852.0         1\n",
       "Name: Column22, Length: 640, dtype: int64"
      ]
     },
     "execution_count": 79,
     "metadata": {},
     "output_type": "execute_result"
    }
   ],
   "source": [
    "train['Column22'].value_counts(dropna=False)\n"
   ]
  },
  {
   "cell_type": "code",
   "execution_count": 178,
   "metadata": {},
   "outputs": [],
   "source": [
    "mean_value=train['Column22'].mean()\n",
    "train['Column22']=train['Column22'].fillna(mean_value)"
   ]
  },
  {
   "cell_type": "code",
   "execution_count": 83,
   "metadata": {},
   "outputs": [
    {
     "data": {
      "text/plain": [
       "NaN       40091\n",
       " 100.0    32572\n",
       " 150.0    21973\n",
       " 80.0     14479\n",
       " 200.0    11915\n",
       " 650.0    11719\n",
       " 120.0     8409\n",
       " 50.0      7244\n",
       " 90.0      6619\n",
       " 300.0     6440\n",
       " 60.0      6229\n",
       " 250.0     6005\n",
       " 70.0      4045\n",
       " 125.0     2467\n",
       " 500.0     2267\n",
       " 85.0      2168\n",
       " 130.0     2151\n",
       " 180.0     1960\n",
       " 110.0     1723\n",
       " 75.0      1692\n",
       " 40.0      1633\n",
       " 55.0      1606\n",
       " 65.0      1478\n",
       " 350.0     1404\n",
       " 140.0     1288\n",
       " 45.0      1060\n",
       " 95.0       860\n",
       " 400.0      856\n",
       " 30.0       767\n",
       " 25.0       741\n",
       "          ...  \n",
       " 162.0        1\n",
       " 601.0        1\n",
       " 204.0        1\n",
       " 299.0        1\n",
       " 585.0        1\n",
       " 488.0        1\n",
       " 566.0        1\n",
       " 645.0        1\n",
       " 323.0        1\n",
       " 161.0        1\n",
       " 277.0        1\n",
       " 351.0        1\n",
       " 424.0        1\n",
       " 349.0        1\n",
       " 346.0        1\n",
       " 640.0        1\n",
       " 262.0        1\n",
       " 332.0        1\n",
       " 272.0        1\n",
       " 405.0        1\n",
       " 423.0        1\n",
       " 335.0        1\n",
       " 453.0        1\n",
       " 557.0        1\n",
       " 269.0        1\n",
       " 333.0        1\n",
       " 238.0        1\n",
       " 556.0        1\n",
       " 502.0        1\n",
       " 608.0        1\n",
       "Name: Column23, Length: 364, dtype: int64"
      ]
     },
     "execution_count": 83,
     "metadata": {},
     "output_type": "execute_result"
    }
   ],
   "source": [
    "train['Column23'].value_counts(dropna=False)"
   ]
  },
  {
   "cell_type": "code",
   "execution_count": 181,
   "metadata": {},
   "outputs": [],
   "source": [
    "test['Column23'].value_counts(dropna=False)\n",
    "median_value=train['Column23'].median()\n",
    "train['Column23']=train['Column23'].fillna(median_value)"
   ]
  },
  {
   "cell_type": "code",
   "execution_count": 88,
   "metadata": {},
   "outputs": [
    {
     "data": {
      "text/plain": [
       "MFTRV9754    190616\n",
       "MTTV8432       9701\n",
       "MMMV5201       7661\n",
       "MOTV11811      6708\n",
       "MALV6680       1530\n",
       "MPGV13018       853\n",
       "MBJV14831       194\n",
       "MAAV8527        166\n",
       "MFMV14090       152\n",
       "MNNV12321        97\n",
       "MSIV9444         19\n",
       "MRNV9809         11\n",
       "MSILV4745        10\n",
       "MKMV5934          9\n",
       "MTVV11032         6\n",
       "MSCIV8628         5\n",
       "MMRV7780          3\n",
       "MFTV4249          1\n",
       "MCVV11528         1\n",
       "MHNV13709         1\n",
       "Name: Column24, dtype: int64"
      ]
     },
     "execution_count": 88,
     "metadata": {},
     "output_type": "execute_result"
    }
   ],
   "source": [
    "train['Column24'].value_counts(dropna=False)"
   ]
  },
  {
   "cell_type": "code",
   "execution_count": 145,
   "metadata": {},
   "outputs": [
    {
     "data": {
      "text/plain": [
       "MFTRC322     190616\n",
       "MAHEC465       7597\n",
       "MOTHC256       6708\n",
       "MMXTC301       3383\n",
       "MMXLC411       1791\n",
       "MDTC240        1530\n",
       "MPUPC287       1436\n",
       "MSAC149         959\n",
       "M407C478        460\n",
       "M3WC484         419\n",
       "MZPC395         271\n",
       "M207C366        262\n",
       "MALC416         248\n",
       "MCLC206         216\n",
       "MJEC268         129\n",
       "MAC1C442        126\n",
       "MAPEC287        108\n",
       "MMGC353         107\n",
       "MCMC184         107\n",
       "MAMTC330        102\n",
       "MATPC187         98\n",
       "MNNC253          97\n",
       "MCDCC489         93\n",
       "M3WLC288         87\n",
       "MSHC198          79\n",
       "MREC307          77\n",
       "MMMVC205         66\n",
       "MGCC486          58\n",
       "MBMC478          54\n",
       "MAPC370          51\n",
       "              ...  \n",
       "MMLC137          18\n",
       "MCPC434          15\n",
       "MKKC229          14\n",
       "MLOC123          11\n",
       "MSGC374          10\n",
       "MVKC205          10\n",
       "MTXC348           9\n",
       "MTMC199           9\n",
       "MT15C184          9\n",
       "MTFC136           8\n",
       "MTTC212           7\n",
       "MKGC494           6\n",
       "MRE60C435         5\n",
       "MBLC451           5\n",
       "MKM1C247          4\n",
       "M3WVLC490         4\n",
       "MTGC410           3\n",
       "MGIOPC419         2\n",
       "MKM2C342          2\n",
       "MKM3C298          2\n",
       "MPAC477           1\n",
       "MOMC293           1\n",
       "MXYC496           1\n",
       "MEOC207           1\n",
       "M3WVSC197         1\n",
       "MCV10C215         1\n",
       "MAL1C300          1\n",
       "MKM4C283          1\n",
       "MSMC338           1\n",
       "MCRVC257          1\n",
       "Name: Column25, Length: 68, dtype: int64"
      ]
     },
     "execution_count": 145,
     "metadata": {},
     "output_type": "execute_result"
    }
   ],
   "source": [
    "train['Column25'].value_counts(dropna=False)"
   ]
  },
  {
   "cell_type": "code",
   "execution_count": 90,
   "metadata": {},
   "outputs": [
    {
     "data": {
      "text/plain": [
       "USG4    105795\n",
       "USG1     66396\n",
       "USG2     29596\n",
       "USG3     15957\n",
       "Name: Column26, dtype: int64"
      ]
     },
     "execution_count": 90,
     "metadata": {},
     "output_type": "execute_result"
    }
   ],
   "source": [
    "train['Column26'].value_counts(dropna=False)"
   ]
  },
  {
   "cell_type": "code",
   "execution_count": 91,
   "metadata": {},
   "outputs": [
    {
     "data": {
      "text/plain": [
       "LOTYPE500     112187\n",
       "LOTYPE1000     96039\n",
       "LOTYPE100       9518\n",
       "Name: Column27, dtype: int64"
      ]
     },
     "execution_count": 91,
     "metadata": {},
     "output_type": "execute_result"
    }
   ],
   "source": [
    "train['Column27'].value_counts(dropna=False)"
   ]
  },
  {
   "cell_type": "code",
   "execution_count": 92,
   "metadata": {},
   "outputs": [
    {
     "data": {
      "text/plain": [
       "APHRNG1692      77130\n",
       "APFPTV154265    62018\n",
       "APHRNG24824     18911\n",
       "APFPTV111550    13860\n",
       "APFPTV9946       7914\n",
       "APFIL14991       7642\n",
       "APFPTV141468     6645\n",
       "APFPTV43652      3418\n",
       "APFPTV104077     3279\n",
       "APFPTV2784       3219\n",
       "APFPTV133257     3113\n",
       "APFPTV62618      2293\n",
       "APFPTV54157      1925\n",
       "APFPTV14547      1798\n",
       "APFIL24807       1242\n",
       "APFPTV31635      1082\n",
       "APFPTV8323        852\n",
       "APFIL31755        634\n",
       "APFPTV73341       419\n",
       "APFPTV123179      350\n",
       "Name: Column28, dtype: int64"
      ]
     },
     "execution_count": 92,
     "metadata": {},
     "output_type": "execute_result"
    }
   ],
   "source": [
    "train['Column28'].value_counts(dropna=False)"
   ]
  },
  {
   "cell_type": "code",
   "execution_count": 182,
   "metadata": {},
   "outputs": [
    {
     "name": "stdout",
     "output_type": "stream",
     "text": [
      "{'Column11': {'Type-206': 1, 'Type-240': 2, 'Type-291': 3, 'Type-326': 4, 'Type-367': 5}}\n"
     ]
    }
   ],
   "source": [
    "#Converting categorical variables to numerical\n",
    "labels = train['Column11'].astype('category').cat.categories.tolist()\n",
    "replace_map_comp = {'Column11' : {k: v for k,v in zip(labels,list(range(1,len(labels)+1)))}}\n",
    "\n",
    "print(replace_map_comp)"
   ]
  },
  {
   "cell_type": "code",
   "execution_count": 185,
   "metadata": {},
   "outputs": [
    {
     "name": "stdout",
     "output_type": "stream",
     "text": [
      "0    1\n",
      "1    1\n",
      "2    1\n",
      "3    1\n",
      "4    1\n",
      "Name: Column11, dtype: int64\n"
     ]
    }
   ],
   "source": [
    "train.replace(replace_map_comp, inplace=True)\n",
    "print(train['Column11'].head())"
   ]
  },
  {
   "cell_type": "code",
   "execution_count": 198,
   "metadata": {},
   "outputs": [
    {
     "name": "stdout",
     "output_type": "stream",
     "text": [
      "{'Column11': {'Type-206': 1, 'Type-240': 2, 'Type-291': 3, 'Type-326': 4, 'Type-367': 5}}\n"
     ]
    }
   ],
   "source": [
    "labels = test['Column11'].astype('category').cat.categories.tolist()\n",
    "replace_map_comp = {'Column11' : {k: v for k,v in zip(labels,list(range(1,len(labels)+1)))}}\n",
    "\n",
    "print(replace_map_comp)"
   ]
  },
  {
   "cell_type": "code",
   "execution_count": 199,
   "metadata": {},
   "outputs": [
    {
     "name": "stdout",
     "output_type": "stream",
     "text": [
      "0    1\n",
      "1    1\n",
      "2    1\n",
      "3    1\n",
      "4    1\n",
      "Name: Column11, dtype: int64\n"
     ]
    }
   ],
   "source": [
    "test.replace(replace_map_comp, inplace=True)\n"
   ]
  },
  {
   "cell_type": "code",
   "execution_count": 186,
   "metadata": {},
   "outputs": [
    {
     "name": "stdout",
     "output_type": "stream",
     "text": [
      "{'Column8': {'MMT 2WD': 1, 'MMT DX 2WD': 2, 'MMT GCN': 3, 'VAR FE TT3': 4, 'VAR FE TT3 REF': 5, 'VAR GCN TT4': 6, 'VAR STD TT3': 7, 'VAR STD TT3 REF': 8, 'VAR STD TT3 REF PS': 9, 'VAR SULP DI TT3': 10, 'VAR SULP DI TT3 PS': 11, 'VAR SULP TT3': 12, 'VAR SULP TT3 PS': 13, 'VAR SULP TT4': 14, 'VAR SULP TT4 PS': 15, 'VAR SULP TT4 PS CBC': 16}}\n"
     ]
    }
   ],
   "source": [
    "#Converting categorical variables to numerical\n",
    "labels1 = train['Column8'].astype('category').cat.categories.tolist()\n",
    "replace_map_comp1 = {'Column8' : {k: v for k,v in zip(labels1,list(range(1,len(labels1)+1)))}}\n",
    "\n",
    "print(replace_map_comp1)"
   ]
  },
  {
   "cell_type": "code",
   "execution_count": 187,
   "metadata": {},
   "outputs": [
    {
     "name": "stdout",
     "output_type": "stream",
     "text": [
      "0    12\n",
      "1    12\n",
      "2    12\n",
      "3    10\n",
      "4    11\n",
      "Name: Column8, dtype: int64\n"
     ]
    }
   ],
   "source": [
    "train.replace(replace_map_comp1, inplace=True)\n",
    "print(train['Column8'].head())"
   ]
  },
  {
   "cell_type": "code",
   "execution_count": 200,
   "metadata": {},
   "outputs": [
    {
     "name": "stdout",
     "output_type": "stream",
     "text": [
      "{'Column8': {'MMT 2WD': 1, 'MMT DX 2WD': 2, 'MMT GCN': 3, 'VAR FE TT3': 4, 'VAR FE TT3 REF': 5, 'VAR GCN TT4': 6, 'VAR STD TT3': 7, 'VAR STD TT3 REF': 8, 'VAR STD TT3 REF PS': 9, 'VAR SULP DI TT3': 10, 'VAR SULP DI TT3 PS': 11, 'VAR SULP TT3': 12, 'VAR SULP TT3 PS': 13, 'VAR SULP TT4': 14, 'VAR SULP TT4 PS': 15, 'VAR SULP TT4 PS CBC': 16}}\n"
     ]
    }
   ],
   "source": [
    "labels1 = test['Column8'].astype('category').cat.categories.tolist()\n",
    "replace_map_comp1 = {'Column8' : {k: v for k,v in zip(labels1,list(range(1,len(labels1)+1)))}}\n",
    "\n",
    "print(replace_map_comp1)"
   ]
  },
  {
   "cell_type": "code",
   "execution_count": 201,
   "metadata": {},
   "outputs": [
    {
     "name": "stdout",
     "output_type": "stream",
     "text": [
      "0    12\n",
      "1    12\n",
      "2    12\n",
      "3    10\n",
      "4    11\n",
      "Name: Column8, dtype: int64\n"
     ]
    }
   ],
   "source": [
    "test.replace(replace_map_comp1, inplace=True)\n"
   ]
  },
  {
   "cell_type": "code",
   "execution_count": 113,
   "metadata": {},
   "outputs": [
    {
     "data": {
      "text/html": [
       "<div>\n",
       "<style scoped>\n",
       "    .dataframe tbody tr th:only-of-type {\n",
       "        vertical-align: middle;\n",
       "    }\n",
       "\n",
       "    .dataframe tbody tr th {\n",
       "        vertical-align: top;\n",
       "    }\n",
       "\n",
       "    .dataframe thead th {\n",
       "        text-align: right;\n",
       "    }\n",
       "</style>\n",
       "<table border=\"1\" class=\"dataframe\">\n",
       "  <thead>\n",
       "    <tr style=\"text-align: right;\">\n",
       "      <th></th>\n",
       "      <th>Column1</th>\n",
       "      <th>Column2</th>\n",
       "      <th>Column3</th>\n",
       "      <th>Column4</th>\n",
       "      <th>Column5</th>\n",
       "      <th>Column6</th>\n",
       "      <th>Column7</th>\n",
       "      <th>Column8</th>\n",
       "      <th>Column9</th>\n",
       "      <th>Column10</th>\n",
       "      <th>...</th>\n",
       "      <th>Column15</th>\n",
       "      <th>Column20</th>\n",
       "      <th>Column22</th>\n",
       "      <th>Column23</th>\n",
       "      <th>Column24</th>\n",
       "      <th>Column25</th>\n",
       "      <th>Column26</th>\n",
       "      <th>Column27</th>\n",
       "      <th>Column28</th>\n",
       "      <th>Target</th>\n",
       "    </tr>\n",
       "  </thead>\n",
       "  <tbody>\n",
       "    <tr>\n",
       "      <th>0</th>\n",
       "      <td>1</td>\n",
       "      <td>D452</td>\n",
       "      <td>2201</td>\n",
       "      <td>PNM0015750</td>\n",
       "      <td>LNM011683</td>\n",
       "      <td>2016-05-01</td>\n",
       "      <td>9.531001e+09</td>\n",
       "      <td>12</td>\n",
       "      <td>6930</td>\n",
       "      <td>80722</td>\n",
       "      <td>...</td>\n",
       "      <td>NaN</td>\n",
       "      <td>N</td>\n",
       "      <td>1000.0</td>\n",
       "      <td>150.0</td>\n",
       "      <td>MFTRV9754</td>\n",
       "      <td>MFTRC322</td>\n",
       "      <td>USG3</td>\n",
       "      <td>LOTYPE1000</td>\n",
       "      <td>APHRNG1692</td>\n",
       "      <td>0</td>\n",
       "    </tr>\n",
       "    <tr>\n",
       "      <th>1</th>\n",
       "      <td>2</td>\n",
       "      <td>E919</td>\n",
       "      <td>2917</td>\n",
       "      <td>PSA0014837</td>\n",
       "      <td>LSA011380</td>\n",
       "      <td>2016-04-01</td>\n",
       "      <td>9.490024e+09</td>\n",
       "      <td>12</td>\n",
       "      <td>6930</td>\n",
       "      <td>80722</td>\n",
       "      <td>...</td>\n",
       "      <td>NaN</td>\n",
       "      <td>N</td>\n",
       "      <td>1600.0</td>\n",
       "      <td>100.0</td>\n",
       "      <td>MFTRV9754</td>\n",
       "      <td>MFTRC322</td>\n",
       "      <td>USG4</td>\n",
       "      <td>LOTYPE500</td>\n",
       "      <td>APFPTV141468</td>\n",
       "      <td>0</td>\n",
       "    </tr>\n",
       "    <tr>\n",
       "      <th>2</th>\n",
       "      <td>3</td>\n",
       "      <td>C818</td>\n",
       "      <td>4441</td>\n",
       "      <td>PRAJV15218</td>\n",
       "      <td>LRAV14709</td>\n",
       "      <td>2016-02-01</td>\n",
       "      <td>9.160056e+09</td>\n",
       "      <td>12</td>\n",
       "      <td>6930</td>\n",
       "      <td>80722</td>\n",
       "      <td>...</td>\n",
       "      <td>NaN</td>\n",
       "      <td>N</td>\n",
       "      <td>1000.0</td>\n",
       "      <td>100.0</td>\n",
       "      <td>MFTRV9754</td>\n",
       "      <td>MFTRC322</td>\n",
       "      <td>USG1</td>\n",
       "      <td>LOTYPE500</td>\n",
       "      <td>APFPTV154265</td>\n",
       "      <td>0</td>\n",
       "    </tr>\n",
       "    <tr>\n",
       "      <th>3</th>\n",
       "      <td>4</td>\n",
       "      <td>E919</td>\n",
       "      <td>4081</td>\n",
       "      <td>PGT0014425</td>\n",
       "      <td>LGT053601</td>\n",
       "      <td>2016-09-01</td>\n",
       "      <td>9.402105e+09</td>\n",
       "      <td>10</td>\n",
       "      <td>6930</td>\n",
       "      <td>168364</td>\n",
       "      <td>...</td>\n",
       "      <td>NaN</td>\n",
       "      <td>N</td>\n",
       "      <td>1000.0</td>\n",
       "      <td>100.0</td>\n",
       "      <td>MFTRV9754</td>\n",
       "      <td>MFTRC322</td>\n",
       "      <td>USG1</td>\n",
       "      <td>LOTYPE500</td>\n",
       "      <td>APFPTV2784</td>\n",
       "      <td>0</td>\n",
       "    </tr>\n",
       "    <tr>\n",
       "      <th>4</th>\n",
       "      <td>5</td>\n",
       "      <td>D452</td>\n",
       "      <td>2201</td>\n",
       "      <td>PNM0015750</td>\n",
       "      <td>LNM011683</td>\n",
       "      <td>2015-11-01</td>\n",
       "      <td>9.530007e+09</td>\n",
       "      <td>11</td>\n",
       "      <td>4259</td>\n",
       "      <td>80722</td>\n",
       "      <td>...</td>\n",
       "      <td>NaN</td>\n",
       "      <td>N</td>\n",
       "      <td>1500.0</td>\n",
       "      <td>150.0</td>\n",
       "      <td>MFTRV9754</td>\n",
       "      <td>MFTRC322</td>\n",
       "      <td>USG1</td>\n",
       "      <td>LOTYPE1000</td>\n",
       "      <td>APHRNG24824</td>\n",
       "      <td>1</td>\n",
       "    </tr>\n",
       "  </tbody>\n",
       "</table>\n",
       "<p>5 rows × 23 columns</p>\n",
       "</div>"
      ],
      "text/plain": [
       "   Column1 Column2  Column3     Column4    Column5    Column6       Column7  \\\n",
       "0        1    D452     2201  PNM0015750  LNM011683 2016-05-01  9.531001e+09   \n",
       "1        2    E919     2917  PSA0014837  LSA011380 2016-04-01  9.490024e+09   \n",
       "2        3    C818     4441  PRAJV15218  LRAV14709 2016-02-01  9.160056e+09   \n",
       "3        4    E919     4081  PGT0014425  LGT053601 2016-09-01  9.402105e+09   \n",
       "4        5    D452     2201  PNM0015750  LNM011683 2015-11-01  9.530007e+09   \n",
       "\n",
       "   Column8  Column9  Column10  ...    Column15 Column20  Column22  Column23  \\\n",
       "0       12     6930     80722  ...         NaN        N    1000.0     150.0   \n",
       "1       12     6930     80722  ...         NaN        N    1600.0     100.0   \n",
       "2       12     6930     80722  ...         NaN        N    1000.0     100.0   \n",
       "3       10     6930    168364  ...         NaN        N    1000.0     100.0   \n",
       "4       11     4259     80722  ...         NaN        N    1500.0     150.0   \n",
       "\n",
       "    Column24  Column25  Column26    Column27      Column28 Target  \n",
       "0  MFTRV9754  MFTRC322      USG3  LOTYPE1000    APHRNG1692      0  \n",
       "1  MFTRV9754  MFTRC322      USG4   LOTYPE500  APFPTV141468      0  \n",
       "2  MFTRV9754  MFTRC322      USG1   LOTYPE500  APFPTV154265      0  \n",
       "3  MFTRV9754  MFTRC322      USG1   LOTYPE500    APFPTV2784      0  \n",
       "4  MFTRV9754  MFTRC322      USG1  LOTYPE1000   APHRNG24824      1  \n",
       "\n",
       "[5 rows x 23 columns]"
      ]
     },
     "execution_count": 113,
     "metadata": {},
     "output_type": "execute_result"
    }
   ],
   "source": [
    "train['Column24'].value_counts()\n",
    "train.head()"
   ]
  },
  {
   "cell_type": "code",
   "execution_count": 188,
   "metadata": {},
   "outputs": [
    {
     "name": "stdout",
     "output_type": "stream",
     "text": [
      "{'Column24': {'MAAV8527': 1, 'MALV6680': 2, 'MBJV14831': 3, 'MCVV11528': 4, 'MFMV14090': 5, 'MFTRV9754': 6, 'MFTV4249': 7, 'MHNV13709': 8, 'MKMV5934': 9, 'MMMV5201': 10, 'MMRV7780': 11, 'MNNV12321': 12, 'MOTV11811': 13, 'MPGV13018': 14, 'MRNV9809': 15, 'MSCIV8628': 16, 'MSILV4745': 17, 'MSIV9444': 18, 'MTTV8432': 19, 'MTVV11032': 20}}\n"
     ]
    }
   ],
   "source": [
    "labels3 = train['Column24'].astype('category').cat.categories.tolist()\n",
    "replace_map_comp3 = {'Column24' : {k: v for k,v in zip(labels3,list(range(1,len(labels3)+1)))}}\n",
    "\n",
    "print(replace_map_comp3)"
   ]
  },
  {
   "cell_type": "code",
   "execution_count": 189,
   "metadata": {},
   "outputs": [
    {
     "name": "stdout",
     "output_type": "stream",
     "text": [
      "0    6\n",
      "1    6\n",
      "2    6\n",
      "3    6\n",
      "4    6\n",
      "Name: Column24, dtype: int64\n"
     ]
    }
   ],
   "source": [
    "train.replace(replace_map_comp3, inplace=True)\n",
    "print(train['Column24'].head())"
   ]
  },
  {
   "cell_type": "code",
   "execution_count": 202,
   "metadata": {},
   "outputs": [
    {
     "name": "stdout",
     "output_type": "stream",
     "text": [
      "{'Column24': {'MAAV8527': 1, 'MALV6680': 2, 'MBJV14831': 3, 'MFMV14090': 4, 'MFTRV9754': 5, 'MKMV5934': 6, 'MMMV5201': 7, 'MMRV7780': 8, 'MNNV12321': 9, 'MOTV11811': 10, 'MPGV13018': 11, 'MRNV9809': 12, 'MSCIV8628': 13, 'MSILV4745': 14, 'MSIV9444': 15, 'MTTV8432': 16, 'MTVV11032': 17}}\n"
     ]
    }
   ],
   "source": [
    "labels3 = test['Column24'].astype('category').cat.categories.tolist()\n",
    "replace_map_comp3 = {'Column24' : {k: v for k,v in zip(labels3,list(range(1,len(labels3)+1)))}}\n",
    "\n",
    "print(replace_map_comp3)"
   ]
  },
  {
   "cell_type": "code",
   "execution_count": 203,
   "metadata": {},
   "outputs": [
    {
     "name": "stdout",
     "output_type": "stream",
     "text": [
      "0    6\n",
      "1    6\n",
      "2    6\n",
      "3    6\n",
      "4    6\n",
      "Name: Column24, dtype: int64\n"
     ]
    }
   ],
   "source": [
    "test.replace(replace_map_comp3, inplace=True)\n"
   ]
  },
  {
   "cell_type": "code",
   "execution_count": 190,
   "metadata": {},
   "outputs": [
    {
     "name": "stdout",
     "output_type": "stream",
     "text": [
      "{'Column25': {'M207C366': 1, 'M3WC484': 2, 'M3WLC288': 3, 'M3WVLC490': 4, 'M3WVSC197': 5, 'M407C478': 6, 'MAC1C442': 7, 'MAHEC465': 8, 'MAL1C300': 9, 'MALC416': 10, 'MAMTC330': 11, 'MAPC370': 12, 'MAPEC287': 13, 'MATPC187': 14, 'MBLC451': 15, 'MBMC478': 16, 'MCDCC489': 17, 'MCLC206': 18, 'MCMC184': 19, 'MCPC434': 20, 'MCRVC257': 21, 'MCV10C215': 22, 'MDTC240': 23, 'MEOC207': 24, 'MFTRC322': 25, 'MGCC486': 26, 'MGDCC141': 27, 'MGIOC405': 28, 'MGIOPC419': 29, 'MGSCC179': 30, 'MJEC268': 31, 'MKGC494': 32, 'MKKC229': 33, 'MKM1C247': 34, 'MKM2C342': 35, 'MKM3C298': 36, 'MKM4C283': 37, 'MLOC123': 38, 'MMDC159': 39, 'MMGC353': 40, 'MMIC217': 41, 'MMLC137': 42, 'MMMVC205': 43, 'MMXLC411': 44, 'MMXTC301': 45, 'MNNC253': 46, 'MOMC293': 47, 'MOTHC256': 48, 'MPAC477': 49, 'MPUPC287': 50, 'MRE60C435': 51, 'MREC307': 52, 'MSAC149': 53, 'MSGC374': 54, 'MSHC198': 55, 'MSMC338': 56, 'MT15C184': 57, 'MT40C420': 58, 'MTCC192': 59, 'MTFC136': 60, 'MTGC410': 61, 'MTMC199': 62, 'MTTC212': 63, 'MTXC348': 64, 'MVKC205': 65, 'MVKRC387': 66, 'MXYC496': 67, 'MZPC395': 68}}\n"
     ]
    }
   ],
   "source": [
    "labels4 = train['Column25'].astype('category').cat.categories.tolist()\n",
    "replace_map_comp4 = {'Column25' : {k: v for k,v in zip(labels4,list(range(1,len(labels4)+1)))}}\n",
    "\n",
    "print(replace_map_comp4)"
   ]
  },
  {
   "cell_type": "code",
   "execution_count": 191,
   "metadata": {},
   "outputs": [
    {
     "name": "stdout",
     "output_type": "stream",
     "text": [
      "0    25\n",
      "1    25\n",
      "2    25\n",
      "3    25\n",
      "4    25\n",
      "Name: Column25, dtype: int64\n"
     ]
    }
   ],
   "source": [
    "train.replace(replace_map_comp4, inplace=True)\n",
    "print(train['Column25'].head())"
   ]
  },
  {
   "cell_type": "code",
   "execution_count": 204,
   "metadata": {},
   "outputs": [
    {
     "name": "stdout",
     "output_type": "stream",
     "text": [
      "{'Column25': {'M207C366': 1, 'M3WC484': 2, 'M3WLC288': 3, 'M3WVLC490': 4, 'M407C478': 5, 'MAC1C442': 6, 'MAHEC465': 7, 'MALC416': 8, 'MAMTC330': 9, 'MAPC370': 10, 'MAPEC287': 11, 'MATPC187': 12, 'MBLC451': 13, 'MBMC478': 14, 'MCDCC489': 15, 'MCLC206': 16, 'MCMC184': 17, 'MCPC434': 18, 'MDTC240': 19, 'MFTRC322': 20, 'MGCC486': 21, 'MGDCC141': 22, 'MGIOC405': 23, 'MGIOPC419': 24, 'MGSCC179': 25, 'MJEC268': 26, 'MKGC494': 27, 'MKKC229': 28, 'MKM1C247': 29, 'MLOC123': 30, 'MMDC159': 31, 'MMGC353': 32, 'MMIC217': 33, 'MMLC137': 34, 'MMMVC205': 35, 'MMXLC411': 36, 'MMXTC301': 37, 'MNNC253': 38, 'MOTHC256': 39, 'MPUPC287': 40, 'MRE60C435': 41, 'MREC307': 42, 'MSAC149': 43, 'MSGC374': 44, 'MSHC198': 45, 'MT15C184': 46, 'MT40C420': 47, 'MTCC192': 48, 'MTGC410': 49, 'MTMC199': 50, 'MTTC212': 51, 'MTXC348': 52, 'MVKC205': 53, 'MVKRC387': 54, 'MWRC277': 55, 'MZPC395': 56}}\n"
     ]
    }
   ],
   "source": [
    "labels4 = test['Column25'].astype('category').cat.categories.tolist()\n",
    "replace_map_comp4 = {'Column25' : {k: v for k,v in zip(labels4,list(range(1,len(labels4)+1)))}}\n",
    "\n",
    "print(replace_map_comp4)"
   ]
  },
  {
   "cell_type": "code",
   "execution_count": 205,
   "metadata": {},
   "outputs": [
    {
     "name": "stdout",
     "output_type": "stream",
     "text": [
      "0    25\n",
      "1    25\n",
      "2    25\n",
      "3    25\n",
      "4    25\n",
      "Name: Column25, dtype: int64\n"
     ]
    }
   ],
   "source": [
    "test.replace(replace_map_comp4, inplace=True)\n"
   ]
  },
  {
   "cell_type": "code",
   "execution_count": 192,
   "metadata": {},
   "outputs": [
    {
     "name": "stdout",
     "output_type": "stream",
     "text": [
      "{'Column26': {'USG1': 1, 'USG2': 2, 'USG3': 3, 'USG4': 4}}\n"
     ]
    }
   ],
   "source": [
    "labels5 = train['Column26'].astype('category').cat.categories.tolist()\n",
    "replace_map_comp5 = {'Column26' : {k: v for k,v in zip(labels5,list(range(1,len(labels5)+1)))}}\n",
    "\n",
    "print(replace_map_comp5)"
   ]
  },
  {
   "cell_type": "code",
   "execution_count": 193,
   "metadata": {},
   "outputs": [
    {
     "name": "stdout",
     "output_type": "stream",
     "text": [
      "0    3\n",
      "1    4\n",
      "2    1\n",
      "3    1\n",
      "4    1\n",
      "Name: Column26, dtype: int64\n"
     ]
    }
   ],
   "source": [
    "train.replace(replace_map_comp5, inplace=True)\n",
    "print(train['Column26'].head())"
   ]
  },
  {
   "cell_type": "code",
   "execution_count": 206,
   "metadata": {},
   "outputs": [
    {
     "name": "stdout",
     "output_type": "stream",
     "text": [
      "{'Column26': {'USG1': 1, 'USG2': 2, 'USG3': 3, 'USG4': 4}}\n"
     ]
    }
   ],
   "source": [
    "labels5 = test['Column26'].astype('category').cat.categories.tolist()\n",
    "replace_map_comp5 = {'Column26' : {k: v for k,v in zip(labels5,list(range(1,len(labels5)+1)))}}\n",
    "\n",
    "print(replace_map_comp5)"
   ]
  },
  {
   "cell_type": "code",
   "execution_count": 207,
   "metadata": {},
   "outputs": [
    {
     "name": "stdout",
     "output_type": "stream",
     "text": [
      "0    4\n",
      "1    4\n",
      "2    1\n",
      "3    3\n",
      "4    1\n",
      "Name: Column26, dtype: int64\n"
     ]
    }
   ],
   "source": [
    "test.replace(replace_map_comp5, inplace=True)\n",
    "print(test['Column26'].head())"
   ]
  },
  {
   "cell_type": "code",
   "execution_count": 194,
   "metadata": {},
   "outputs": [
    {
     "name": "stdout",
     "output_type": "stream",
     "text": [
      "{'Column27': {'LOTYPE100': 1, 'LOTYPE1000': 2, 'LOTYPE500': 3}}\n"
     ]
    }
   ],
   "source": [
    "labels6 = train['Column27'].astype('category').cat.categories.tolist()\n",
    "replace_map_comp6 = {'Column27' : {k: v for k,v in zip(labels6,list(range(1,len(labels6)+1)))}}\n",
    "\n",
    "print(replace_map_comp6)"
   ]
  },
  {
   "cell_type": "code",
   "execution_count": 195,
   "metadata": {},
   "outputs": [
    {
     "name": "stdout",
     "output_type": "stream",
     "text": [
      "0    2\n",
      "1    3\n",
      "2    3\n",
      "3    3\n",
      "4    2\n",
      "Name: Column27, dtype: int64\n"
     ]
    }
   ],
   "source": [
    "train.replace(replace_map_comp6, inplace=True)\n",
    "print(train['Column27'].head())"
   ]
  },
  {
   "cell_type": "code",
   "execution_count": 208,
   "metadata": {},
   "outputs": [
    {
     "name": "stdout",
     "output_type": "stream",
     "text": [
      "{'Column27': {'LOTYPE100': 1, 'LOTYPE1000': 2, 'LOTYPE500': 3}}\n"
     ]
    }
   ],
   "source": [
    "labels6 = test['Column27'].astype('category').cat.categories.tolist()\n",
    "replace_map_comp6 = {'Column27' : {k: v for k,v in zip(labels6,list(range(1,len(labels6)+1)))}}\n",
    "\n",
    "print(replace_map_comp6)"
   ]
  },
  {
   "cell_type": "code",
   "execution_count": 209,
   "metadata": {},
   "outputs": [
    {
     "name": "stdout",
     "output_type": "stream",
     "text": [
      "0    2\n",
      "1    3\n",
      "2    3\n",
      "3    2\n",
      "4    3\n",
      "Name: Column27, dtype: int64\n"
     ]
    }
   ],
   "source": [
    "test.replace(replace_map_comp6, inplace=True)\n",
    "print(test['Column27'].head())"
   ]
  },
  {
   "cell_type": "code",
   "execution_count": 196,
   "metadata": {
    "scrolled": true
   },
   "outputs": [
    {
     "name": "stdout",
     "output_type": "stream",
     "text": [
      "{'Column28': {'APFIL14991': 1, 'APFIL24807': 2, 'APFIL31755': 3, 'APFPTV104077': 4, 'APFPTV111550': 5, 'APFPTV123179': 6, 'APFPTV133257': 7, 'APFPTV141468': 8, 'APFPTV14547': 9, 'APFPTV154265': 10, 'APFPTV2784': 11, 'APFPTV31635': 12, 'APFPTV43652': 13, 'APFPTV54157': 14, 'APFPTV62618': 15, 'APFPTV73341': 16, 'APFPTV8323': 17, 'APFPTV9946': 18, 'APHRNG1692': 19, 'APHRNG24824': 20}}\n"
     ]
    }
   ],
   "source": [
    "labels7 = train['Column28'].astype('category').cat.categories.tolist()\n",
    "replace_map_comp7 = {'Column28' : {k: v for k,v in zip(labels7,list(range(1,len(labels7)+1)))}}\n",
    "\n",
    "print(replace_map_comp7)"
   ]
  },
  {
   "cell_type": "code",
   "execution_count": 197,
   "metadata": {},
   "outputs": [
    {
     "name": "stdout",
     "output_type": "stream",
     "text": [
      "0    19\n",
      "1     8\n",
      "2    10\n",
      "3    11\n",
      "4    20\n",
      "Name: Column28, dtype: int64\n"
     ]
    }
   ],
   "source": [
    "train.replace(replace_map_comp7, inplace=True)\n",
    "print(train['Column28'].head())"
   ]
  },
  {
   "cell_type": "code",
   "execution_count": 210,
   "metadata": {},
   "outputs": [
    {
     "name": "stdout",
     "output_type": "stream",
     "text": [
      "{'Column28': {'APFIL14991': 1, 'APFIL24807': 2, 'APFIL31755': 3, 'APFPTV104077': 4, 'APFPTV111550': 5, 'APFPTV123179': 6, 'APFPTV133257': 7, 'APFPTV141468': 8, 'APFPTV14547': 9, 'APFPTV154265': 10, 'APFPTV2784': 11, 'APFPTV31635': 12, 'APFPTV43652': 13, 'APFPTV54157': 14, 'APFPTV62618': 15, 'APFPTV73341': 16, 'APFPTV8323': 17, 'APFPTV9946': 18, 'APHRNG1692': 19, 'APHRNG24824': 20}}\n"
     ]
    }
   ],
   "source": [
    "labels7 = test['Column28'].astype('category').cat.categories.tolist()\n",
    "replace_map_comp7 = {'Column28' : {k: v for k,v in zip(labels7,list(range(1,len(labels7)+1)))}}\n",
    "\n",
    "print(replace_map_comp7)"
   ]
  },
  {
   "cell_type": "code",
   "execution_count": 211,
   "metadata": {},
   "outputs": [
    {
     "name": "stdout",
     "output_type": "stream",
     "text": [
      "0    19\n",
      "1    18\n",
      "2     8\n",
      "3    19\n",
      "4    10\n",
      "Name: Column28, dtype: int64\n"
     ]
    }
   ],
   "source": [
    "test.replace(replace_map_comp7, inplace=True)\n",
    "print(test['Column28'].head())"
   ]
  },
  {
   "cell_type": "code",
   "execution_count": 212,
   "metadata": {},
   "outputs": [
    {
     "data": {
      "text/plain": [
       "(217744, 23)"
      ]
     },
     "execution_count": 212,
     "metadata": {},
     "output_type": "execute_result"
    }
   ],
   "source": [
    "train.shape"
   ]
  },
  {
   "cell_type": "code",
   "execution_count": 213,
   "metadata": {},
   "outputs": [
    {
     "data": {
      "text/plain": [
       "(58066, 22)"
      ]
     },
     "execution_count": 213,
     "metadata": {},
     "output_type": "execute_result"
    }
   ],
   "source": [
    "test.shape"
   ]
  },
  {
   "cell_type": "code",
   "execution_count": 214,
   "metadata": {},
   "outputs": [
    {
     "name": "stdout",
     "output_type": "stream",
     "text": [
      "<class 'pandas.core.frame.DataFrame'>\n",
      "RangeIndex: 217744 entries, 0 to 217743\n",
      "Data columns (total 23 columns):\n",
      "Column1     217744 non-null int64\n",
      "Column2     217744 non-null object\n",
      "Column3     217744 non-null int64\n",
      "Column4     217744 non-null object\n",
      "Column5     217744 non-null object\n",
      "Column6     217744 non-null datetime64[ns]\n",
      "Column7     204967 non-null float64\n",
      "Column8     217744 non-null int64\n",
      "Column9     217744 non-null int64\n",
      "Column10    217744 non-null int64\n",
      "Column11    217744 non-null int64\n",
      "Column13    217744 non-null object\n",
      "Column14    217744 non-null int64\n",
      "Column15    27143 non-null float64\n",
      "Column20    217744 non-null object\n",
      "Column22    217744 non-null float64\n",
      "Column23    217744 non-null float64\n",
      "Column24    217744 non-null int64\n",
      "Column25    217744 non-null int64\n",
      "Column26    217744 non-null int64\n",
      "Column27    217744 non-null int64\n",
      "Column28    217744 non-null int64\n",
      "Target      217744 non-null int64\n",
      "dtypes: datetime64[ns](1), float64(4), int64(13), object(5)\n",
      "memory usage: 38.2+ MB\n"
     ]
    }
   ],
   "source": [
    "train.info()"
   ]
  },
  {
   "cell_type": "code",
   "execution_count": 215,
   "metadata": {},
   "outputs": [
    {
     "name": "stdout",
     "output_type": "stream",
     "text": [
      "{'Column2': {'A121': 1, 'B191': 2, 'C818': 3, 'D452': 4, 'E919': 5}}\n"
     ]
    }
   ],
   "source": [
    "labels8 = train['Column2'].astype('category').cat.categories.tolist()\n",
    "replace_map_comp8 = {'Column2' : {k: v for k,v in zip(labels8,list(range(1,len(labels8)+1)))}}\n",
    "\n",
    "print(replace_map_comp8)"
   ]
  },
  {
   "cell_type": "code",
   "execution_count": 216,
   "metadata": {},
   "outputs": [
    {
     "name": "stdout",
     "output_type": "stream",
     "text": [
      "0    4\n",
      "1    5\n",
      "2    3\n",
      "3    5\n",
      "4    4\n",
      "Name: Column2, dtype: int64\n"
     ]
    }
   ],
   "source": [
    "train.replace(replace_map_comp8, inplace=True)\n",
    "print(train['Column2'].head())"
   ]
  },
  {
   "cell_type": "code",
   "execution_count": 217,
   "metadata": {},
   "outputs": [
    {
     "name": "stdout",
     "output_type": "stream",
     "text": [
      "{'Column2': {'A121': 1, 'B191': 2, 'C818': 3, 'D452': 4, 'E919': 5}}\n"
     ]
    }
   ],
   "source": [
    "labels8 = test['Column2'].astype('category').cat.categories.tolist()\n",
    "replace_map_comp8 = {'Column2' : {k: v for k,v in zip(labels8,list(range(1,len(labels8)+1)))}}\n",
    "\n",
    "print(replace_map_comp8)"
   ]
  },
  {
   "cell_type": "code",
   "execution_count": 218,
   "metadata": {},
   "outputs": [
    {
     "name": "stdout",
     "output_type": "stream",
     "text": [
      "0    2\n",
      "1    2\n",
      "2    5\n",
      "3    4\n",
      "4    2\n",
      "Name: Column2, dtype: int64\n"
     ]
    }
   ],
   "source": [
    "test.replace(replace_map_comp8, inplace=True)\n",
    "print(test['Column2'].head())"
   ]
  },
  {
   "cell_type": "code",
   "execution_count": 222,
   "metadata": {},
   "outputs": [
    {
     "name": "stdout",
     "output_type": "stream",
     "text": [
      "{'Column4': {'PA2Z013889': 1, 'PAAUT12615': 2, 'PAAW018991': 3, 'PABA019285': 4, 'PACM012527': 5, 'PAD0017516': 6, 'PAGR014598': 7, 'PAGRW11053': 8, 'PAIA015320': 9, 'PAKS18880': 10, 'PAM0026696': 11, 'PAM0039938': 12, 'PAMI013636': 13, 'PAMIT18100': 14, 'PAMO011391': 15, 'PANM013675': 16, 'PANT016983': 17, 'PAPA019653': 18, 'PAR0011710': 19, 'PARAN11130': 20, 'PASH018869': 21, 'PASM016950': 22, 'PASMO17904': 23, 'PATL14832': 24, 'PAUC019509': 25, 'PAUTW14708': 26, 'PAVC015671': 27, 'PBAI014147': 28, 'PBAJ018859': 29, 'PBAL014443': 30, 'PBAS011245': 31, 'PBAW012143': 32, 'PBEL015702': 33, 'PBGM012387': 34, 'PBHAG19502': 35, 'PBHF012520': 36, 'PBHL015070': 37, 'PBHW019774': 38, 'PBIK018750': 39, 'PBIM019144': 40, 'PBLM013229': 41, 'PBMN19066': 42, 'PBRA012585': 43, 'PBRW15590': 44, 'PBUA012380': 45, 'PCA0012759': 46, 'PCEM018562': 47, 'PCI0012722': 48, 'PCMM012990': 49, 'PCRV17956': 50, 'PCSA017940': 51, 'PDAMO19064': 52, 'PDE4W14969': 53, 'PDEA016058': 54, 'PDPM011782': 55, 'PDUA017590': 56, 'PEAF16218': 57, 'PEVG016112': 58, 'PGAN016615': 59, 'PGDM012234': 60, 'PGEH018281': 61, 'PGG011104': 62, 'PGG026495': 63, 'PGJA019897': 64, 'PGLM11101': 65, 'PGM0018659': 66, 'PGT0014425': 67, 'PGUPT13356': 68, 'PHAR013900': 69, 'PHAR027973': 70, 'PHAT015766': 71, 'PHAV019005': 72, 'PHDM013553': 73, 'PHIB017243': 74, 'PHM0014073': 75, 'PHORA11179': 76, 'PHORA21460': 77, 'PIAL011306': 78, 'PICO013657': 79, 'PIFE018948': 80, 'PIG015655': 81, 'PIGB019389': 82, 'PIGM015360': 83, 'PINM18210': 84, 'PINR14118': 85, 'PITL019680': 86, 'PJAT015026': 87, 'PJKA013333': 88, 'PJM0017807': 89, 'PJN012750': 90, 'PJS4W16155': 91, 'PJSS015489': 92, 'PKA0013885': 93, 'PKAU017692': 94, 'PKAW013776': 95, 'PKBS017214': 96, 'PKD022763': 97, 'PKHM019305': 98, 'PKIR019374': 99, 'PKRNT12885': 100, 'PKRR015283': 101, 'PKSA016674': 102, 'PKSM015632': 103, 'PKTC016254': 104, 'PKU0016363': 105, 'PKUM015765': 106, 'PLEA012480': 107, 'PLO0017233': 108, 'PLRA013664': 109, 'PMAK013277': 110, 'PMAM017715': 111, 'PMDM016249': 112, 'PMEET18983': 113, 'PMFP014285': 114, 'PMGA18622': 115, 'PMGB011336': 116, 'PMIG018019': 117, 'PMINA11408': 118, 'PMKM014746': 119, 'PMLM012244': 120, 'PMM0019624': 121, 'PMMT015226': 122, 'PMN0016123': 123, 'PMO0016794': 124, 'PMOE019713': 125, 'PMOH017996': 126, 'PMP018995': 127, 'PMRS13515': 128, 'PMSM013128': 129, 'PMUA012665': 130, 'PMV0019900': 131, 'PMY0012993': 132, 'PNAF017044': 133, 'PNAG017063': 134, 'PNAK17880': 135, 'PNAM013549': 136, 'PNAR012515': 137, 'PNAT012531': 138, 'PNB0018706': 139, 'PNEM014961': 140, 'PNEX011195': 141, 'PNM0015750': 142, 'POMA012977': 143, 'PONS019668': 144, 'POSM012321': 145, 'PPAC015229': 146, 'PPAH012049': 147, 'PPARA11744': 148, 'PPATW11881': 149, 'PPATW27396': 150, 'PPAW014079': 151, 'PPM0011793': 152, 'PPM0029821': 153, 'PPNJ16522': 154, 'PPNJ24041': 155, 'PPPA013910': 156, 'PPRM011171': 157, 'PPRTK12498': 158, 'PPRV16366': 159, 'PPUN019569': 160, 'PRAG011953': 161, 'PRAJ013213': 162, 'PRAJE15882': 163, 'PRAJI17358': 164, 'PRAJM17771': 165, 'PRAJV15218': 166, 'PRAM014432': 167, 'PRAMP11443': 168, 'PRAU017587': 169, 'PRDA014221': 170, 'PRDA024956': 171, 'PRIM013094': 172, 'PRJA015526': 173, 'PRNS012229': 174, 'PROA018497': 175, 'PROH011680': 176, 'PROY019848': 177, 'PRSA017268': 178, 'PRTH019713': 179, 'PRTN19317': 180, 'PSA0014837': 181, 'PSAG019018': 182, 'PSAH011128': 183, 'PSANG19508': 184, 'PSAPT19182': 185, 'PSAR012974': 186, 'PSATY14517': 187, 'PSCH018698': 188, 'PSDV13035': 189, 'PSDV23977': 190, 'PSFA013354': 191, 'PSH0013468': 192, 'PSH016709': 193, 'PSHA028397': 194, 'PSHI015195': 195, 'PSHR15530': 196, 'PSHRD16234': 197, 'PSHT017349': 198, 'PSHU011735': 199, 'PSHV013616': 200, 'PSHV16909': 201, 'PSIA012536': 202, 'PSIM016804': 203, 'PSIT019358': 204, 'PSJ0012050': 205, 'PSJ017406': 206, 'PSKA011871': 207, 'PSKL14630': 208, 'PSKS028131': 209, 'PSLA012759': 210, 'PSLM019725': 211, 'PSNA012972': 212, 'PSNM017023': 213, 'PSNT018189': 214, 'PSOM019552': 215, 'PSON018392': 216, 'PSPL018868': 217, 'PSPL036321': 218, 'PSRC017238': 219, 'PSRCC19099': 220, 'PSRE016077': 221, 'PSRG14975': 222, 'PSRI022336': 223, 'PSRRA18757': 224, 'PSSW017225': 225, 'PST0013362': 226, 'PSTA016524': 227, 'PSTA022542': 228, 'PSTA032050': 229, 'PSTAR17185': 230, 'PSTL11714': 231, 'PSTM016282': 232, 'PSTP19035': 233, 'PSTR18708': 234, 'PSUNS15551': 235, 'PSUP013060': 236, 'PSUP028101': 237, 'PSURY19886': 238, 'PSUS14695': 239, 'PSUT019809': 240, 'PSUT024785': 241, 'PSVA013743': 242, 'PSW0016192': 243, 'PSWA025292': 244, 'PSYR017918': 245, 'PTAM017914': 246, 'PTEM017274': 247, 'PTIA014478': 248, 'PTRW14933': 249, 'PTVS012132': 250, 'PTVS032446': 251, 'PTVS044818': 252, 'PUJW12238': 253, 'PUN0016618': 254, 'PUNI012992': 255, 'PUNTA12962': 256, 'PUTK017120': 257, 'PUTK024089': 258, 'PVA0016850': 259, 'PVAK015238': 260, 'PVC0015606': 261, 'PVDM014171': 262, 'PVIJ012226': 263, 'PVIN015098': 264, 'PVINM19383': 265, 'PVTA018554': 266, 'PVV0017932': 267, 'PWIN018846': 268, 'PZUL015933': 269}}\n"
     ]
    }
   ],
   "source": [
    "labels9 = train['Column4'].astype('category').cat.categories.tolist()\n",
    "replace_map_comp9 = {'Column4' : {k: v for k,v in zip(labels9,list(range(1,len(labels9)+1)))}}\n",
    "\n",
    "print(replace_map_comp9)"
   ]
  },
  {
   "cell_type": "code",
   "execution_count": 223,
   "metadata": {},
   "outputs": [],
   "source": [
    "del train['Column4']\n",
    "del test['Column4']"
   ]
  },
  {
   "cell_type": "code",
   "execution_count": 224,
   "metadata": {},
   "outputs": [],
   "source": [
    "del train['Column5']\n",
    "del test['Column5']"
   ]
  },
  {
   "cell_type": "code",
   "execution_count": 225,
   "metadata": {},
   "outputs": [
    {
     "data": {
      "text/plain": [
       "COM1    142479\n",
       "COM3     57633\n",
       "COM2     17632\n",
       "Name: Column13, dtype: int64"
      ]
     },
     "execution_count": 225,
     "metadata": {},
     "output_type": "execute_result"
    }
   ],
   "source": [
    "train['Column13'].value_counts()"
   ]
  },
  {
   "cell_type": "code",
   "execution_count": 226,
   "metadata": {},
   "outputs": [
    {
     "name": "stdout",
     "output_type": "stream",
     "text": [
      "{'Column13': {'COM1': 1, 'COM2': 2, 'COM3': 3}}\n"
     ]
    }
   ],
   "source": [
    "labels10 = train['Column13'].astype('category').cat.categories.tolist()\n",
    "replace_map_comp10 = {'Column13' : {k: v for k,v in zip(labels10,list(range(1,len(labels10)+1)))}}\n",
    "\n",
    "print(replace_map_comp10)"
   ]
  },
  {
   "cell_type": "code",
   "execution_count": 227,
   "metadata": {},
   "outputs": [
    {
     "name": "stdout",
     "output_type": "stream",
     "text": [
      "0    1\n",
      "1    3\n",
      "2    2\n",
      "3    1\n",
      "4    1\n",
      "Name: Column13, dtype: int64\n"
     ]
    }
   ],
   "source": [
    "train.replace(replace_map_comp10, inplace=True)\n",
    "print(train['Column13'].head())"
   ]
  },
  {
   "cell_type": "code",
   "execution_count": 228,
   "metadata": {},
   "outputs": [
    {
     "name": "stdout",
     "output_type": "stream",
     "text": [
      "{'Column13': {'COM1': 1, 'COM2': 2, 'COM3': 3}}\n"
     ]
    }
   ],
   "source": [
    "labels10 = test['Column13'].astype('category').cat.categories.tolist()\n",
    "replace_map_comp10 = {'Column13' : {k: v for k,v in zip(labels10,list(range(1,len(labels10)+1)))}}\n",
    "\n",
    "print(replace_map_comp10)"
   ]
  },
  {
   "cell_type": "code",
   "execution_count": 229,
   "metadata": {},
   "outputs": [
    {
     "name": "stdout",
     "output_type": "stream",
     "text": [
      "0    1\n",
      "1    1\n",
      "2    1\n",
      "3    1\n",
      "4    3\n",
      "Name: Column13, dtype: int64\n"
     ]
    }
   ],
   "source": [
    "test.replace(replace_map_comp10, inplace=True)\n",
    "print(test['Column13'].head())"
   ]
  },
  {
   "cell_type": "code",
   "execution_count": 230,
   "metadata": {},
   "outputs": [
    {
     "data": {
      "text/plain": [
       "N    217584\n",
       "Y       160\n",
       "Name: Column20, dtype: int64"
      ]
     },
     "execution_count": 230,
     "metadata": {},
     "output_type": "execute_result"
    }
   ],
   "source": [
    "train['Column20'].value_counts()"
   ]
  },
  {
   "cell_type": "code",
   "execution_count": 231,
   "metadata": {},
   "outputs": [],
   "source": [
    "del train['Column20']\n",
    "del test['Column20']"
   ]
  },
  {
   "cell_type": "code",
   "execution_count": 232,
   "metadata": {},
   "outputs": [
    {
     "data": {
      "text/plain": [
       "(217744, 20)"
      ]
     },
     "execution_count": 232,
     "metadata": {},
     "output_type": "execute_result"
    }
   ],
   "source": [
    "train.shape"
   ]
  },
  {
   "cell_type": "code",
   "execution_count": 233,
   "metadata": {},
   "outputs": [
    {
     "data": {
      "text/plain": [
       "(58066, 19)"
      ]
     },
     "execution_count": 233,
     "metadata": {},
     "output_type": "execute_result"
    }
   ],
   "source": [
    "test.shape"
   ]
  },
  {
   "cell_type": "code",
   "execution_count": 234,
   "metadata": {},
   "outputs": [
    {
     "name": "stdout",
     "output_type": "stream",
     "text": [
      "<class 'pandas.core.frame.DataFrame'>\n",
      "RangeIndex: 217744 entries, 0 to 217743\n",
      "Data columns (total 20 columns):\n",
      "Column1     217744 non-null int64\n",
      "Column2     217744 non-null int64\n",
      "Column3     217744 non-null int64\n",
      "Column6     217744 non-null datetime64[ns]\n",
      "Column7     204967 non-null float64\n",
      "Column8     217744 non-null int64\n",
      "Column9     217744 non-null int64\n",
      "Column10    217744 non-null int64\n",
      "Column11    217744 non-null int64\n",
      "Column13    217744 non-null int64\n",
      "Column14    217744 non-null int64\n",
      "Column15    27143 non-null float64\n",
      "Column22    217744 non-null float64\n",
      "Column23    217744 non-null float64\n",
      "Column24    217744 non-null int64\n",
      "Column25    217744 non-null int64\n",
      "Column26    217744 non-null int64\n",
      "Column27    217744 non-null int64\n",
      "Column28    217744 non-null int64\n",
      "Target      217744 non-null int64\n",
      "dtypes: datetime64[ns](1), float64(4), int64(15)\n",
      "memory usage: 33.2 MB\n"
     ]
    }
   ],
   "source": [
    "train.info()"
   ]
  },
  {
   "cell_type": "code",
   "execution_count": 235,
   "metadata": {},
   "outputs": [],
   "source": [
    "del train['Column15']\n",
    "del test['Column15']"
   ]
  },
  {
   "cell_type": "markdown",
   "metadata": {},
   "source": [
    "# EDA"
   ]
  },
  {
   "cell_type": "code",
   "execution_count": 367,
   "metadata": {},
   "outputs": [
    {
     "data": {
      "text/plain": [
       "<matplotlib.figure.Figure at 0x17a1a45b208>"
      ]
     },
     "metadata": {},
     "output_type": "display_data"
    }
   ],
   "source": [
    "import seaborn as sns\n",
    "import matplotlib.pyplot as plt\n",
    "sns.countplot(x='Target',data=train)\n",
    "plt.show()"
   ]
  },
  {
   "cell_type": "code",
   "execution_count": 368,
   "metadata": {},
   "outputs": [
    {
     "data": {
      "image/png": "[encoded data removed]",
      "text/plain": [
       "<matplotlib.figure.Figure at 0x17a1c7ca630>"
      ]
     },
     "metadata": {},
     "output_type": "display_data"
    }
   ],
   "source": [
    "train['Target'].plot(kind='hist')\n",
    "plt.show()"
   ]
  },
  {
   "cell_type": "code",
   "execution_count": 370,
   "metadata": {},
   "outputs": [
    {
     "data": {
      "image/png": "[encoded data removed]",
      "text/plain": [
       "<matplotlib.figure.Figure at 0x17a1cd70fd0>"
      ]
     },
     "metadata": {},
     "output_type": "display_data"
    }
   ],
   "source": [
    "%matplotlib inline\n",
    "pd.crosstab(train.Column11,train.Target).plot(kind='bar')\n",
    "plt.title(' Frequency for unique values')\n",
    "plt.xlabel('Column11')\n",
    "plt.ylabel('Frequency')\n",
    "plt.savefig('purchase')"
   ]
  },
  {
   "cell_type": "code",
   "execution_count": 371,
   "metadata": {},
   "outputs": [
    {
     "data": {
      "image/png": "[encoded data removed]",
      "text/plain": [
       "<matplotlib.figure.Figure at 0x17a1cb2d588>"
      ]
     },
     "metadata": {},
     "output_type": "display_data"
    }
   ],
   "source": [
    "%matplotlib inline\n",
    "pd.crosstab(train.Column8,train.Target).plot(kind='bar')\n",
    "plt.title(' Frequency for unique values')\n",
    "plt.xlabel('Column8')\n",
    "plt.ylabel('Frequency')\n",
    "plt.savefig('purchase1')"
   ]
  },
  {
   "cell_type": "code",
   "execution_count": 372,
   "metadata": {},
   "outputs": [
    {
     "data": {
      "image/png": "[encoded data removed]",
      "text/plain": [
       "<matplotlib.figure.Figure at 0x17a1ce01668>"
      ]
     },
     "metadata": {},
     "output_type": "display_data"
    }
   ],
   "source": [
    "%matplotlib inline\n",
    "pd.crosstab(train.Column13,train.Target).plot(kind='bar')\n",
    "plt.title(' Frequency for unique values')\n",
    "plt.xlabel('Column13')\n",
    "plt.ylabel('Frequency')\n",
    "plt.savefig('purchase2')"
   ]
  },
  {
   "cell_type": "code",
   "execution_count": 373,
   "metadata": {},
   "outputs": [
    {
     "data": {
      "image/png": "[encoded data removed]",
      "text/plain": [
       "<matplotlib.figure.Figure at 0x17a1ce01b70>"
      ]
     },
     "metadata": {},
     "output_type": "display_data"
    }
   ],
   "source": [
    "%matplotlib inline\n",
    "pd.crosstab(train.Column24,train.Target).plot(kind='bar')\n",
    "plt.title(' Frequency for unique values')\n",
    "plt.xlabel('Column24')\n",
    "plt.ylabel('Frequency')\n",
    "plt.savefig('purchase3')"
   ]
  },
  {
   "cell_type": "markdown",
   "metadata": {},
   "source": [
    "# Building the model"
   ]
  },
  {
   "cell_type": "code",
   "execution_count": 256,
   "metadata": {},
   "outputs": [],
   "source": [
    "X_data=train.drop('Target',axis=1)\n",
    "y=train['Target'].values"
   ]
  },
  {
   "cell_type": "code",
   "execution_count": 257,
   "metadata": {},
   "outputs": [],
   "source": [
    "#splitting the dataset\n",
    "SEED=7\n",
    "X_train,X_test,y_train,y_test=train_test_split(X_data,y,test_size=0.80,stratify=y,random_state=SEED)"
   ]
  },
  {
   "cell_type": "code",
   "execution_count": 243,
   "metadata": {},
   "outputs": [
    {
     "name": "stdout",
     "output_type": "stream",
     "text": [
      "0   2016-05-01\n",
      "1   2016-04-01\n",
      "2   2016-02-01\n",
      "3   2016-09-01\n",
      "4   2015-11-01\n",
      "Name: Column6, dtype: datetime64[ns]\n"
     ]
    }
   ],
   "source": [
    "print(train['Column6'].head())"
   ]
  },
  {
   "cell_type": "code",
   "execution_count": 244,
   "metadata": {},
   "outputs": [],
   "source": [
    "train['Month'] = train[\"Column6\"].dt.month\n",
    "train[\"year\"] = train[\"Column6\"].dt.year"
   ]
  },
  {
   "cell_type": "code",
   "execution_count": 246,
   "metadata": {},
   "outputs": [],
   "source": [
    "test['Column6']=pd.to_datetime(test['Column6'])\n",
    "test['Month'] = test[\"Column6\"].dt.month\n",
    "test[\"year\"] = test[\"Column6\"].dt.year"
   ]
  },
  {
   "cell_type": "code",
   "execution_count": 254,
   "metadata": {},
   "outputs": [],
   "source": [
    "del train['Column6']\n",
    "del test['Column6']"
   ]
  },
  {
   "cell_type": "code",
   "execution_count": 258,
   "metadata": {},
   "outputs": [],
   "source": [
    "#train the Xgboost model\n",
    "model1=xgb.XGBClassifier(n_estimators=100,max_depth=6,learning_rate=0.1,subsample=0.5,objective='binary:logistic')\n",
    "train_model1=model1.fit(X_train,y_train)\n"
   ]
  },
  {
   "cell_type": "code",
   "execution_count": 263,
   "metadata": {},
   "outputs": [
    {
     "name": "stdout",
     "output_type": "stream",
     "text": [
      "[0 1 0 ... 1 1 0]\n"
     ]
    },
    {
     "name": "stderr",
     "output_type": "stream",
     "text": [
      "E:\\ANACONDA\\lib\\site-packages\\sklearn\\preprocessing\\label.py:151: DeprecationWarning: The truth value of an empty array is ambiguous. Returning False, but in future this will result in an error. Use `array.size > 0` to check that an array is not empty.\n",
      "  if diff:\n"
     ]
    }
   ],
   "source": [
    "#prediction and classification report\n",
    "from sklearn.metrics import classification_report\n",
    "pred1=train_model1.predict(X_test)\n",
    "print(pred1)"
   ]
  },
  {
   "cell_type": "code",
   "execution_count": 265,
   "metadata": {},
   "outputs": [
    {
     "name": "stdout",
     "output_type": "stream",
     "text": [
      "Model1 XGBOOST report '             precision    recall  f1-score   support\\n\\n          0       0.91      0.97      0.94    144648\\n          1       0.76      0.55      0.64     29548\\n\\navg / total       0.89      0.89      0.89    174196\\n'\n"
     ]
    }
   ],
   "source": [
    "print('Model1 XGBOOST report %r' % (classification_report(y_test,pred1)))"
   ]
  },
  {
   "cell_type": "code",
   "execution_count": 266,
   "metadata": {},
   "outputs": [
    {
     "name": "stdout",
     "output_type": "stream",
     "text": [
      "accuracy 89.4061861351581\n"
     ]
    }
   ],
   "source": [
    "print(\"accuracy\",(accuracy_score(y_test,pred1)*100))"
   ]
  },
  {
   "cell_type": "code",
   "execution_count": 267,
   "metadata": {},
   "outputs": [],
   "source": [
    "#Lets change the hyperparameter\n",
    "\n",
    "model2=xgb.XGBClassifier(learning_rate=0.1,n_estimators=1000,max_depth=5,min_child_weight=1,subsample=0.8,colsample_bytree=0.8,objective='binary:logistic',nthread=4,SEED=7)"
   ]
  },
  {
   "cell_type": "code",
   "execution_count": 269,
   "metadata": {},
   "outputs": [
    {
     "name": "stdout",
     "output_type": "stream",
     "text": [
      "[0 1 0 ... 1 1 0]\n"
     ]
    },
    {
     "name": "stderr",
     "output_type": "stream",
     "text": [
      "E:\\ANACONDA\\lib\\site-packages\\sklearn\\preprocessing\\label.py:151: DeprecationWarning: The truth value of an empty array is ambiguous. Returning False, but in future this will result in an error. Use `array.size > 0` to check that an array is not empty.\n",
      "  if diff:\n"
     ]
    }
   ],
   "source": [
    "train_model2=model2.fit(X_train,y_train)\n",
    "pred2=train_model2.predict(X_test)\n",
    "print(pred2)"
   ]
  },
  {
   "cell_type": "code",
   "execution_count": 270,
   "metadata": {},
   "outputs": [
    {
     "name": "stdout",
     "output_type": "stream",
     "text": [
      "accuracy 90.49404119497578\n"
     ]
    }
   ],
   "source": [
    "print('accuracy',(accuracy_score(y_test,pred2)*100))"
   ]
  },
  {
   "cell_type": "code",
   "execution_count": 273,
   "metadata": {},
   "outputs": [
    {
     "name": "stderr",
     "output_type": "stream",
     "text": [
      "Exception ignored in: <bound method DMatrix.__del__ of <xgboost.core.DMatrix object at 0x0000017A1AF9B208>>\n",
      "Traceback (most recent call last):\n",
      "  File \"E:\\ANACONDA\\lib\\site-packages\\xgboost\\core.py\", line 482, in __del__\n",
      "    if self.handle is not None:\n",
      "AttributeError: 'DMatrix' object has no attribute 'handle'\n"
     ]
    }
   ],
   "source": [
    "from sklearn.model_selection import GridSearchCV\n",
    "param_test={'learning_rate':[0.01,0.1],'n_estimators':[200],'subsample':[0.3,0.5,0.8]}\n",
    "gbm=xgb.XGBClassifier(max_depth=5,objective='binary:logistic',SEED=27)\n"
   ]
  },
  {
   "cell_type": "code",
   "execution_count": 275,
   "metadata": {},
   "outputs": [
    {
     "name": "stdout",
     "output_type": "stream",
     "text": [
      "Fitting 4 folds for each of 6 candidates, totalling 24 fits\n"
     ]
    },
    {
     "name": "stderr",
     "output_type": "stream",
     "text": [
      "E:\\ANACONDA\\lib\\site-packages\\sklearn\\preprocessing\\label.py:151: DeprecationWarning: The truth value of an empty array is ambiguous. Returning False, but in future this will result in an error. Use `array.size > 0` to check that an array is not empty.\n",
      "  if diff:\n",
      "E:\\ANACONDA\\lib\\site-packages\\sklearn\\preprocessing\\label.py:151: DeprecationWarning: The truth value of an empty array is ambiguous. Returning False, but in future this will result in an error. Use `array.size > 0` to check that an array is not empty.\n",
      "  if diff:\n",
      "E:\\ANACONDA\\lib\\site-packages\\sklearn\\preprocessing\\label.py:151: DeprecationWarning: The truth value of an empty array is ambiguous. Returning False, but in future this will result in an error. Use `array.size > 0` to check that an array is not empty.\n",
      "  if diff:\n",
      "E:\\ANACONDA\\lib\\site-packages\\sklearn\\preprocessing\\label.py:151: DeprecationWarning: The truth value of an empty array is ambiguous. Returning False, but in future this will result in an error. Use `array.size > 0` to check that an array is not empty.\n",
      "  if diff:\n",
      "E:\\ANACONDA\\lib\\site-packages\\sklearn\\preprocessing\\label.py:151: DeprecationWarning: The truth value of an empty array is ambiguous. Returning False, but in future this will result in an error. Use `array.size > 0` to check that an array is not empty.\n",
      "  if diff:\n",
      "E:\\ANACONDA\\lib\\site-packages\\sklearn\\preprocessing\\label.py:151: DeprecationWarning: The truth value of an empty array is ambiguous. Returning False, but in future this will result in an error. Use `array.size > 0` to check that an array is not empty.\n",
      "  if diff:\n",
      "E:\\ANACONDA\\lib\\site-packages\\sklearn\\preprocessing\\label.py:151: DeprecationWarning: The truth value of an empty array is ambiguous. Returning False, but in future this will result in an error. Use `array.size > 0` to check that an array is not empty.\n",
      "  if diff:\n",
      "E:\\ANACONDA\\lib\\site-packages\\sklearn\\preprocessing\\label.py:151: DeprecationWarning: The truth value of an empty array is ambiguous. Returning False, but in future this will result in an error. Use `array.size > 0` to check that an array is not empty.\n",
      "  if diff:\n",
      "E:\\ANACONDA\\lib\\site-packages\\sklearn\\preprocessing\\label.py:151: DeprecationWarning: The truth value of an empty array is ambiguous. Returning False, but in future this will result in an error. Use `array.size > 0` to check that an array is not empty.\n",
      "  if diff:\n",
      "E:\\ANACONDA\\lib\\site-packages\\sklearn\\preprocessing\\label.py:151: DeprecationWarning: The truth value of an empty array is ambiguous. Returning False, but in future this will result in an error. Use `array.size > 0` to check that an array is not empty.\n",
      "  if diff:\n",
      "E:\\ANACONDA\\lib\\site-packages\\sklearn\\preprocessing\\label.py:151: DeprecationWarning: The truth value of an empty array is ambiguous. Returning False, but in future this will result in an error. Use `array.size > 0` to check that an array is not empty.\n",
      "  if diff:\n",
      "E:\\ANACONDA\\lib\\site-packages\\sklearn\\preprocessing\\label.py:151: DeprecationWarning: The truth value of an empty array is ambiguous. Returning False, but in future this will result in an error. Use `array.size > 0` to check that an array is not empty.\n",
      "  if diff:\n",
      "E:\\ANACONDA\\lib\\site-packages\\sklearn\\preprocessing\\label.py:151: DeprecationWarning: The truth value of an empty array is ambiguous. Returning False, but in future this will result in an error. Use `array.size > 0` to check that an array is not empty.\n",
      "  if diff:\n",
      "E:\\ANACONDA\\lib\\site-packages\\sklearn\\preprocessing\\label.py:151: DeprecationWarning: The truth value of an empty array is ambiguous. Returning False, but in future this will result in an error. Use `array.size > 0` to check that an array is not empty.\n",
      "  if diff:\n",
      "E:\\ANACONDA\\lib\\site-packages\\sklearn\\preprocessing\\label.py:151: DeprecationWarning: The truth value of an empty array is ambiguous. Returning False, but in future this will result in an error. Use `array.size > 0` to check that an array is not empty.\n",
      "  if diff:\n",
      "E:\\ANACONDA\\lib\\site-packages\\sklearn\\preprocessing\\label.py:151: DeprecationWarning: The truth value of an empty array is ambiguous. Returning False, but in future this will result in an error. Use `array.size > 0` to check that an array is not empty.\n",
      "  if diff:\n",
      "E:\\ANACONDA\\lib\\site-packages\\sklearn\\preprocessing\\label.py:151: DeprecationWarning: The truth value of an empty array is ambiguous. Returning False, but in future this will result in an error. Use `array.size > 0` to check that an array is not empty.\n",
      "  if diff:\n",
      "E:\\ANACONDA\\lib\\site-packages\\sklearn\\preprocessing\\label.py:151: DeprecationWarning: The truth value of an empty array is ambiguous. Returning False, but in future this will result in an error. Use `array.size > 0` to check that an array is not empty.\n",
      "  if diff:\n",
      "E:\\ANACONDA\\lib\\site-packages\\sklearn\\preprocessing\\label.py:151: DeprecationWarning: The truth value of an empty array is ambiguous. Returning False, but in future this will result in an error. Use `array.size > 0` to check that an array is not empty.\n",
      "  if diff:\n",
      "E:\\ANACONDA\\lib\\site-packages\\sklearn\\preprocessing\\label.py:151: DeprecationWarning: The truth value of an empty array is ambiguous. Returning False, but in future this will result in an error. Use `array.size > 0` to check that an array is not empty.\n",
      "  if diff:\n",
      "E:\\ANACONDA\\lib\\site-packages\\sklearn\\preprocessing\\label.py:151: DeprecationWarning: The truth value of an empty array is ambiguous. Returning False, but in future this will result in an error. Use `array.size > 0` to check that an array is not empty.\n",
      "  if diff:\n",
      "E:\\ANACONDA\\lib\\site-packages\\sklearn\\preprocessing\\label.py:151: DeprecationWarning: The truth value of an empty array is ambiguous. Returning False, but in future this will result in an error. Use `array.size > 0` to check that an array is not empty.\n",
      "  if diff:\n",
      "E:\\ANACONDA\\lib\\site-packages\\sklearn\\preprocessing\\label.py:151: DeprecationWarning: The truth value of an empty array is ambiguous. Returning False, but in future this will result in an error. Use `array.size > 0` to check that an array is not empty.\n",
      "  if diff:\n",
      "E:\\ANACONDA\\lib\\site-packages\\sklearn\\preprocessing\\label.py:151: DeprecationWarning: The truth value of an empty array is ambiguous. Returning False, but in future this will result in an error. Use `array.size > 0` to check that an array is not empty.\n",
      "  if diff:\n",
      "E:\\ANACONDA\\lib\\site-packages\\sklearn\\preprocessing\\label.py:151: DeprecationWarning: The truth value of an empty array is ambiguous. Returning False, but in future this will result in an error. Use `array.size > 0` to check that an array is not empty.\n",
      "  if diff:\n",
      "E:\\ANACONDA\\lib\\site-packages\\sklearn\\preprocessing\\label.py:151: DeprecationWarning: The truth value of an empty array is ambiguous. Returning False, but in future this will result in an error. Use `array.size > 0` to check that an array is not empty.\n",
      "  if diff:\n",
      "E:\\ANACONDA\\lib\\site-packages\\sklearn\\preprocessing\\label.py:151: DeprecationWarning: The truth value of an empty array is ambiguous. Returning False, but in future this will result in an error. Use `array.size > 0` to check that an array is not empty.\n",
      "  if diff:\n",
      "E:\\ANACONDA\\lib\\site-packages\\sklearn\\preprocessing\\label.py:151: DeprecationWarning: The truth value of an empty array is ambiguous. Returning False, but in future this will result in an error. Use `array.size > 0` to check that an array is not empty.\n",
      "  if diff:\n",
      "E:\\ANACONDA\\lib\\site-packages\\sklearn\\preprocessing\\label.py:151: DeprecationWarning: The truth value of an empty array is ambiguous. Returning False, but in future this will result in an error. Use `array.size > 0` to check that an array is not empty.\n",
      "  if diff:\n",
      "E:\\ANACONDA\\lib\\site-packages\\sklearn\\preprocessing\\label.py:151: DeprecationWarning: The truth value of an empty array is ambiguous. Returning False, but in future this will result in an error. Use `array.size > 0` to check that an array is not empty.\n",
      "  if diff:\n",
      "E:\\ANACONDA\\lib\\site-packages\\sklearn\\preprocessing\\label.py:151: DeprecationWarning: The truth value of an empty array is ambiguous. Returning False, but in future this will result in an error. Use `array.size > 0` to check that an array is not empty.\n",
      "  if diff:\n",
      "E:\\ANACONDA\\lib\\site-packages\\sklearn\\preprocessing\\label.py:151: DeprecationWarning: The truth value of an empty array is ambiguous. Returning False, but in future this will result in an error. Use `array.size > 0` to check that an array is not empty.\n",
      "  if diff:\n"
     ]
    },
    {
     "name": "stderr",
     "output_type": "stream",
     "text": [
      "E:\\ANACONDA\\lib\\site-packages\\sklearn\\preprocessing\\label.py:151: DeprecationWarning: The truth value of an empty array is ambiguous. Returning False, but in future this will result in an error. Use `array.size > 0` to check that an array is not empty.\n",
      "  if diff:\n",
      "E:\\ANACONDA\\lib\\site-packages\\sklearn\\preprocessing\\label.py:151: DeprecationWarning: The truth value of an empty array is ambiguous. Returning False, but in future this will result in an error. Use `array.size > 0` to check that an array is not empty.\n",
      "  if diff:\n",
      "E:\\ANACONDA\\lib\\site-packages\\sklearn\\preprocessing\\label.py:151: DeprecationWarning: The truth value of an empty array is ambiguous. Returning False, but in future this will result in an error. Use `array.size > 0` to check that an array is not empty.\n",
      "  if diff:\n",
      "E:\\ANACONDA\\lib\\site-packages\\sklearn\\preprocessing\\label.py:151: DeprecationWarning: The truth value of an empty array is ambiguous. Returning False, but in future this will result in an error. Use `array.size > 0` to check that an array is not empty.\n",
      "  if diff:\n",
      "E:\\ANACONDA\\lib\\site-packages\\sklearn\\preprocessing\\label.py:151: DeprecationWarning: The truth value of an empty array is ambiguous. Returning False, but in future this will result in an error. Use `array.size > 0` to check that an array is not empty.\n",
      "  if diff:\n",
      "E:\\ANACONDA\\lib\\site-packages\\sklearn\\preprocessing\\label.py:151: DeprecationWarning: The truth value of an empty array is ambiguous. Returning False, but in future this will result in an error. Use `array.size > 0` to check that an array is not empty.\n",
      "  if diff:\n",
      "E:\\ANACONDA\\lib\\site-packages\\sklearn\\preprocessing\\label.py:151: DeprecationWarning: The truth value of an empty array is ambiguous. Returning False, but in future this will result in an error. Use `array.size > 0` to check that an array is not empty.\n",
      "  if diff:\n",
      "E:\\ANACONDA\\lib\\site-packages\\sklearn\\preprocessing\\label.py:151: DeprecationWarning: The truth value of an empty array is ambiguous. Returning False, but in future this will result in an error. Use `array.size > 0` to check that an array is not empty.\n",
      "  if diff:\n",
      "E:\\ANACONDA\\lib\\site-packages\\sklearn\\preprocessing\\label.py:151: DeprecationWarning: The truth value of an empty array is ambiguous. Returning False, but in future this will result in an error. Use `array.size > 0` to check that an array is not empty.\n",
      "  if diff:\n",
      "E:\\ANACONDA\\lib\\site-packages\\sklearn\\preprocessing\\label.py:151: DeprecationWarning: The truth value of an empty array is ambiguous. Returning False, but in future this will result in an error. Use `array.size > 0` to check that an array is not empty.\n",
      "  if diff:\n",
      "E:\\ANACONDA\\lib\\site-packages\\sklearn\\preprocessing\\label.py:151: DeprecationWarning: The truth value of an empty array is ambiguous. Returning False, but in future this will result in an error. Use `array.size > 0` to check that an array is not empty.\n",
      "  if diff:\n",
      "E:\\ANACONDA\\lib\\site-packages\\sklearn\\preprocessing\\label.py:151: DeprecationWarning: The truth value of an empty array is ambiguous. Returning False, but in future this will result in an error. Use `array.size > 0` to check that an array is not empty.\n",
      "  if diff:\n",
      "E:\\ANACONDA\\lib\\site-packages\\sklearn\\preprocessing\\label.py:151: DeprecationWarning: The truth value of an empty array is ambiguous. Returning False, but in future this will result in an error. Use `array.size > 0` to check that an array is not empty.\n",
      "  if diff:\n",
      "E:\\ANACONDA\\lib\\site-packages\\sklearn\\preprocessing\\label.py:151: DeprecationWarning: The truth value of an empty array is ambiguous. Returning False, but in future this will result in an error. Use `array.size > 0` to check that an array is not empty.\n",
      "  if diff:\n",
      "E:\\ANACONDA\\lib\\site-packages\\sklearn\\preprocessing\\label.py:151: DeprecationWarning: The truth value of an empty array is ambiguous. Returning False, but in future this will result in an error. Use `array.size > 0` to check that an array is not empty.\n",
      "  if diff:\n",
      "E:\\ANACONDA\\lib\\site-packages\\sklearn\\preprocessing\\label.py:151: DeprecationWarning: The truth value of an empty array is ambiguous. Returning False, but in future this will result in an error. Use `array.size > 0` to check that an array is not empty.\n",
      "  if diff:\n",
      "[Parallel(n_jobs=1)]: Done  24 out of  24 | elapsed:  5.7min finished\n"
     ]
    }
   ],
   "source": [
    "gsearch=GridSearchCV(estimator=gbm,param_grid=param_test,scoring='accuracy',cv=4,verbose=1)\n",
    "train_model3=gsearch.fit(X_train,y_train)"
   ]
  },
  {
   "cell_type": "code",
   "execution_count": 277,
   "metadata": {},
   "outputs": [
    {
     "name": "stdout",
     "output_type": "stream",
     "text": [
      "accuracy 89.66508989873476\n"
     ]
    },
    {
     "name": "stderr",
     "output_type": "stream",
     "text": [
      "E:\\ANACONDA\\lib\\site-packages\\sklearn\\preprocessing\\label.py:151: DeprecationWarning: The truth value of an empty array is ambiguous. Returning False, but in future this will result in an error. Use `array.size > 0` to check that an array is not empty.\n",
      "  if diff:\n"
     ]
    }
   ],
   "source": [
    "pred3=train_model3.predict(X_test)\n",
    "print('accuracy',(accuracy_score(y_test,pred3)*100))"
   ]
  },
  {
   "cell_type": "code",
   "execution_count": 279,
   "metadata": {},
   "outputs": [
    {
     "name": "stdout",
     "output_type": "stream",
     "text": [
      "[1 0 0 ... 1 0 0]\n"
     ]
    },
    {
     "name": "stderr",
     "output_type": "stream",
     "text": [
      "E:\\ANACONDA\\lib\\site-packages\\sklearn\\preprocessing\\label.py:151: DeprecationWarning: The truth value of an empty array is ambiguous. Returning False, but in future this will result in an error. Use `array.size > 0` to check that an array is not empty.\n",
      "  if diff:\n"
     ]
    }
   ],
   "source": [
    "#predict on test dataset\n",
    "P_test=train_model2.predict(test)\n",
    "print(P_test)"
   ]
  },
  {
   "cell_type": "code",
   "execution_count": 288,
   "metadata": {},
   "outputs": [],
   "source": [
    "sub=pd.DataFrame()\n",
    "sub['A']=P_test\n",
    "sub.to_csv('machinelearning_jatin_jethwa.csv',index=False)"
   ]
  },
  {
   "cell_type": "markdown",
   "metadata": {},
   "source": [
    "# For test dataset2"
   ]
  },
  {
   "cell_type": "code",
   "execution_count": 317,
   "metadata": {},
   "outputs": [],
   "source": [
    "test2=pd.read_csv('E:\\\\aegis\\\\bookspdf\\\\testdataset2.csv')"
   ]
  },
  {
   "cell_type": "code",
   "execution_count": 291,
   "metadata": {},
   "outputs": [
    {
     "data": {
      "text/html": [
       "<div>\n",
       "<style scoped>\n",
       "    .dataframe tbody tr th:only-of-type {\n",
       "        vertical-align: middle;\n",
       "    }\n",
       "\n",
       "    .dataframe tbody tr th {\n",
       "        vertical-align: top;\n",
       "    }\n",
       "\n",
       "    .dataframe thead th {\n",
       "        text-align: right;\n",
       "    }\n",
       "</style>\n",
       "<table border=\"1\" class=\"dataframe\">\n",
       "  <thead>\n",
       "    <tr style=\"text-align: right;\">\n",
       "      <th></th>\n",
       "      <th>Column1</th>\n",
       "      <th>Column2</th>\n",
       "      <th>Column3</th>\n",
       "      <th>Column4</th>\n",
       "      <th>Column5</th>\n",
       "      <th>Column6</th>\n",
       "      <th>Column7</th>\n",
       "      <th>Column8</th>\n",
       "      <th>Column9</th>\n",
       "      <th>Column10</th>\n",
       "      <th>...</th>\n",
       "      <th>Column19</th>\n",
       "      <th>Column20</th>\n",
       "      <th>Column21</th>\n",
       "      <th>Column22</th>\n",
       "      <th>Column23</th>\n",
       "      <th>Column24</th>\n",
       "      <th>Column25</th>\n",
       "      <th>Column26</th>\n",
       "      <th>Column27</th>\n",
       "      <th>Column28</th>\n",
       "    </tr>\n",
       "  </thead>\n",
       "  <tbody>\n",
       "    <tr>\n",
       "      <th>0</th>\n",
       "      <td>1</td>\n",
       "      <td>C818</td>\n",
       "      <td>ARO-4928</td>\n",
       "      <td>PJAT015026</td>\n",
       "      <td>LJTR16460</td>\n",
       "      <td>12-2015</td>\n",
       "      <td>9.202520e+09</td>\n",
       "      <td>VAR SULP DI TT3</td>\n",
       "      <td>Col-4259</td>\n",
       "      <td>SC-40875</td>\n",
       "      <td>...</td>\n",
       "      <td>NaN</td>\n",
       "      <td>N</td>\n",
       "      <td>NaN</td>\n",
       "      <td>1.0</td>\n",
       "      <td>40.0</td>\n",
       "      <td>MFTRV9754</td>\n",
       "      <td>MFTRC322</td>\n",
       "      <td>USG2</td>\n",
       "      <td>LOTYPE500</td>\n",
       "      <td>APFPTV154265</td>\n",
       "    </tr>\n",
       "    <tr>\n",
       "      <th>1</th>\n",
       "      <td>2</td>\n",
       "      <td>C818</td>\n",
       "      <td>ARO-2179</td>\n",
       "      <td>PAAUT12615</td>\n",
       "      <td>LAAM15117</td>\n",
       "      <td>03-2016</td>\n",
       "      <td>9.226002e+09</td>\n",
       "      <td>VAR SULP TT4</td>\n",
       "      <td>Col-6930</td>\n",
       "      <td>SC-80722</td>\n",
       "      <td>...</td>\n",
       "      <td>NaN</td>\n",
       "      <td>N</td>\n",
       "      <td>NaN</td>\n",
       "      <td>1000.0</td>\n",
       "      <td>650.0</td>\n",
       "      <td>MFTRV9754</td>\n",
       "      <td>MFTRC322</td>\n",
       "      <td>USG4</td>\n",
       "      <td>LOTYPE1000</td>\n",
       "      <td>APHRNG24824</td>\n",
       "    </tr>\n",
       "    <tr>\n",
       "      <th>2</th>\n",
       "      <td>3</td>\n",
       "      <td>C818</td>\n",
       "      <td>ARO-2179</td>\n",
       "      <td>PAGR014598</td>\n",
       "      <td>LAGR15285</td>\n",
       "      <td>01-2017</td>\n",
       "      <td>9.231312e+09</td>\n",
       "      <td>VAR SULP DI TT3 PS</td>\n",
       "      <td>Col-4259</td>\n",
       "      <td>SC-80722</td>\n",
       "      <td>...</td>\n",
       "      <td>NaN</td>\n",
       "      <td>N</td>\n",
       "      <td>NaN</td>\n",
       "      <td>1200.0</td>\n",
       "      <td>100.0</td>\n",
       "      <td>MFTRV9754</td>\n",
       "      <td>MFTRC322</td>\n",
       "      <td>USG4</td>\n",
       "      <td>LOTYPE1000</td>\n",
       "      <td>APHRNG24824</td>\n",
       "    </tr>\n",
       "    <tr>\n",
       "      <th>3</th>\n",
       "      <td>4</td>\n",
       "      <td>D452</td>\n",
       "      <td>ARO-1926</td>\n",
       "      <td>PSKS028131</td>\n",
       "      <td>LSKS12968</td>\n",
       "      <td>04-2017</td>\n",
       "      <td>9.636454e+09</td>\n",
       "      <td>VAR SULP TT4 PS</td>\n",
       "      <td>Col-6930</td>\n",
       "      <td>SC-40875</td>\n",
       "      <td>...</td>\n",
       "      <td>NaN</td>\n",
       "      <td>N</td>\n",
       "      <td>NaN</td>\n",
       "      <td>1150.0</td>\n",
       "      <td>85.0</td>\n",
       "      <td>MFTRV9754</td>\n",
       "      <td>MFTRC322</td>\n",
       "      <td>USG4</td>\n",
       "      <td>LOTYPE500</td>\n",
       "      <td>APFPTV111550</td>\n",
       "    </tr>\n",
       "    <tr>\n",
       "      <th>4</th>\n",
       "      <td>5</td>\n",
       "      <td>B191</td>\n",
       "      <td>ARO-4742</td>\n",
       "      <td>PAUTW14708</td>\n",
       "      <td>LATW19806</td>\n",
       "      <td>06-2016</td>\n",
       "      <td>9.322202e+09</td>\n",
       "      <td>VAR SULP TT3 PS</td>\n",
       "      <td>Col-6930</td>\n",
       "      <td>SC-168364</td>\n",
       "      <td>...</td>\n",
       "      <td>NaN</td>\n",
       "      <td>N</td>\n",
       "      <td>NaN</td>\n",
       "      <td>1150.0</td>\n",
       "      <td>500.0</td>\n",
       "      <td>MFTRV9754</td>\n",
       "      <td>MFTRC322</td>\n",
       "      <td>USG4</td>\n",
       "      <td>LOTYPE1000</td>\n",
       "      <td>APHRNG24824</td>\n",
       "    </tr>\n",
       "  </tbody>\n",
       "</table>\n",
       "<p>5 rows × 28 columns</p>\n",
       "</div>"
      ],
      "text/plain": [
       "   Column1 Column2   Column3     Column4    Column5  Column6       Column7  \\\n",
       "0        1    C818  ARO-4928  PJAT015026  LJTR16460  12-2015  9.202520e+09   \n",
       "1        2    C818  ARO-2179  PAAUT12615  LAAM15117  03-2016  9.226002e+09   \n",
       "2        3    C818  ARO-2179  PAGR014598  LAGR15285  01-2017  9.231312e+09   \n",
       "3        4    D452  ARO-1926  PSKS028131  LSKS12968  04-2017  9.636454e+09   \n",
       "4        5    B191  ARO-4742  PAUTW14708  LATW19806  06-2016  9.322202e+09   \n",
       "\n",
       "              Column8   Column9   Column10      ...      Column19 Column20  \\\n",
       "0     VAR SULP DI TT3  Col-4259   SC-40875      ...           NaN        N   \n",
       "1        VAR SULP TT4  Col-6930   SC-80722      ...           NaN        N   \n",
       "2  VAR SULP DI TT3 PS  Col-4259   SC-80722      ...           NaN        N   \n",
       "3     VAR SULP TT4 PS  Col-6930   SC-40875      ...           NaN        N   \n",
       "4     VAR SULP TT3 PS  Col-6930  SC-168364      ...           NaN        N   \n",
       "\n",
       "  Column21  Column22  Column23   Column24  Column25  Column26    Column27  \\\n",
       "0      NaN       1.0      40.0  MFTRV9754  MFTRC322      USG2   LOTYPE500   \n",
       "1      NaN    1000.0     650.0  MFTRV9754  MFTRC322      USG4  LOTYPE1000   \n",
       "2      NaN    1200.0     100.0  MFTRV9754  MFTRC322      USG4  LOTYPE1000   \n",
       "3      NaN    1150.0      85.0  MFTRV9754  MFTRC322      USG4   LOTYPE500   \n",
       "4      NaN    1150.0     500.0  MFTRV9754  MFTRC322      USG4  LOTYPE1000   \n",
       "\n",
       "       Column28  \n",
       "0  APFPTV154265  \n",
       "1   APHRNG24824  \n",
       "2   APHRNG24824  \n",
       "3  APFPTV111550  \n",
       "4   APHRNG24824  \n",
       "\n",
       "[5 rows x 28 columns]"
      ]
     },
     "execution_count": 291,
     "metadata": {},
     "output_type": "execute_result"
    }
   ],
   "source": [
    "test2.head()"
   ]
  },
  {
   "cell_type": "code",
   "execution_count": 293,
   "metadata": {},
   "outputs": [
    {
     "name": "stdout",
     "output_type": "stream",
     "text": [
      "<class 'pandas.core.frame.DataFrame'>\n",
      "RangeIndex: 87098 entries, 0 to 87097\n",
      "Data columns (total 28 columns):\n",
      "Column1     87098 non-null int64\n",
      "Column2     87098 non-null object\n",
      "Column3     87098 non-null object\n",
      "Column4     87098 non-null object\n",
      "Column5     87098 non-null object\n",
      "Column6     87098 non-null object\n",
      "Column7     82038 non-null float64\n",
      "Column8     87098 non-null object\n",
      "Column9     87098 non-null object\n",
      "Column10    87098 non-null object\n",
      "Column11    87098 non-null object\n",
      "Column12    17167 non-null object\n",
      "Column13    87098 non-null object\n",
      "Column14    87098 non-null int64\n",
      "Column15    10719 non-null float64\n",
      "Column16    61572 non-null object\n",
      "Column17    66835 non-null object\n",
      "Column18    0 non-null float64\n",
      "Column19    10370 non-null object\n",
      "Column20    87098 non-null object\n",
      "Column21    7373 non-null object\n",
      "Column22    72137 non-null float64\n",
      "Column23    71020 non-null float64\n",
      "Column24    87098 non-null object\n",
      "Column25    87098 non-null object\n",
      "Column26    87098 non-null object\n",
      "Column27    87098 non-null object\n",
      "Column28    87098 non-null object\n",
      "dtypes: float64(5), int64(2), object(21)\n",
      "memory usage: 18.6+ MB\n"
     ]
    }
   ],
   "source": [
    "test2.info()"
   ]
  },
  {
   "cell_type": "code",
   "execution_count": 318,
   "metadata": {},
   "outputs": [
    {
     "data": {
      "text/plain": [
       "(87098, 28)"
      ]
     },
     "execution_count": 318,
     "metadata": {},
     "output_type": "execute_result"
    }
   ],
   "source": [
    "test2.shape"
   ]
  },
  {
   "cell_type": "code",
   "execution_count": 319,
   "metadata": {},
   "outputs": [
    {
     "name": "stdout",
     "output_type": "stream",
     "text": [
      "datetime64[ns]\n"
     ]
    }
   ],
   "source": [
    "#converting date to datetime object\n",
    "test2['Column6']=pd.to_datetime(test2['Column6'])\n",
    "print(test2['Column6'].dtypes)"
   ]
  },
  {
   "cell_type": "code",
   "execution_count": 320,
   "metadata": {},
   "outputs": [],
   "source": [
    "#column should be variables and rows should be observations\n",
    "test2['Column3']=test2['Column3'].apply(lambda x:x.replace('ARO-',''))\n",
    "test2['Column3']=pd.to_numeric(test2['Column3'],errors='coerce')\n"
   ]
  },
  {
   "cell_type": "code",
   "execution_count": 321,
   "metadata": {},
   "outputs": [],
   "source": [
    "#column should be variables and rows should be observations(converting bad data to good data)\n",
    "test2['Column9']=test2['Column9'].apply(lambda x:x.replace('Col-',''))\n",
    "test2['Column9']=pd.to_numeric(test2['Column9'],errors='coerce')"
   ]
  },
  {
   "cell_type": "code",
   "execution_count": 322,
   "metadata": {},
   "outputs": [],
   "source": [
    "#column should be variables and rows should be observations(converting bad data to good data)\n",
    "test2['Column10']=test2['Column10'].apply(lambda x:x.replace('SC-',''))\n",
    "test2['Column10']=pd.to_numeric(test2['Column10'],errors='coerce')"
   ]
  },
  {
   "cell_type": "code",
   "execution_count": 323,
   "metadata": {},
   "outputs": [
    {
     "data": {
      "text/plain": [
       "69931"
      ]
     },
     "execution_count": 323,
     "metadata": {},
     "output_type": "execute_result"
    }
   ],
   "source": [
    "test2['Column12'].isnull().sum()"
   ]
  },
  {
   "cell_type": "code",
   "execution_count": 324,
   "metadata": {},
   "outputs": [],
   "source": [
    "#deleting column\n",
    "del test2['Column12']"
   ]
  },
  {
   "cell_type": "code",
   "execution_count": 325,
   "metadata": {},
   "outputs": [
    {
     "data": {
      "text/plain": [
       "N      52893\n",
       "NaN    25526\n",
       "Y       4769\n",
       "S       2977\n",
       "C        917\n",
       "P          9\n",
       "G          7\n",
       "Name: Column16, dtype: int64"
      ]
     },
     "execution_count": 325,
     "metadata": {},
     "output_type": "execute_result"
    }
   ],
   "source": [
    "#finding frequency counts\n",
    "test2['Column16'].value_counts(dropna=False)"
   ]
  },
  {
   "cell_type": "code",
   "execution_count": 326,
   "metadata": {},
   "outputs": [],
   "source": [
    "#As Nan values are more frequent will drop the column\n",
    "del test2['Column16']"
   ]
  },
  {
   "cell_type": "code",
   "execution_count": 327,
   "metadata": {},
   "outputs": [
    {
     "data": {
      "text/plain": [
       "N      63312\n",
       "NaN    20263\n",
       "Y       3523\n",
       "Name: Column17, dtype: int64"
      ]
     },
     "execution_count": 327,
     "metadata": {},
     "output_type": "execute_result"
    }
   ],
   "source": [
    "test2['Column17'].value_counts(dropna=False)"
   ]
  },
  {
   "cell_type": "code",
   "execution_count": 328,
   "metadata": {},
   "outputs": [],
   "source": [
    "del test2['Column17']"
   ]
  },
  {
   "cell_type": "code",
   "execution_count": 329,
   "metadata": {},
   "outputs": [
    {
     "data": {
      "text/plain": [
       "NaN    87098\n",
       "Name: Column18, dtype: int64"
      ]
     },
     "execution_count": 329,
     "metadata": {},
     "output_type": "execute_result"
    }
   ],
   "source": [
    "test2['Column18'].value_counts(dropna=False)"
   ]
  },
  {
   "cell_type": "code",
   "execution_count": 330,
   "metadata": {},
   "outputs": [],
   "source": [
    "del test2['Column18']"
   ]
  },
  {
   "cell_type": "code",
   "execution_count": 331,
   "metadata": {},
   "outputs": [
    {
     "data": {
      "text/plain": [
       "NaN    76728\n",
       "M       8531\n",
       "S       1839\n",
       "Name: Column19, dtype: int64"
      ]
     },
     "execution_count": 331,
     "metadata": {},
     "output_type": "execute_result"
    }
   ],
   "source": [
    "test2['Column19'].value_counts(dropna=False)"
   ]
  },
  {
   "cell_type": "code",
   "execution_count": 332,
   "metadata": {},
   "outputs": [],
   "source": [
    "del test2['Column19']"
   ]
  },
  {
   "cell_type": "code",
   "execution_count": 333,
   "metadata": {},
   "outputs": [
    {
     "data": {
      "text/plain": [
       "NaN    79725\n",
       "A3      3385\n",
       "A2      2279\n",
       "A4       745\n",
       "A1       681\n",
       "A5       283\n",
       "Name: Column21, dtype: int64"
      ]
     },
     "execution_count": 333,
     "metadata": {},
     "output_type": "execute_result"
    }
   ],
   "source": [
    "test2['Column21'].value_counts(dropna=False)"
   ]
  },
  {
   "cell_type": "code",
   "execution_count": 334,
   "metadata": {},
   "outputs": [],
   "source": [
    "del test2['Column21']"
   ]
  },
  {
   "cell_type": "code",
   "execution_count": 335,
   "metadata": {},
   "outputs": [
    {
     "data": {
      "text/plain": [
       " 1150.0    20808\n",
       "NaN        14961\n",
       " 1500.0     7725\n",
       " 1000.0     7538\n",
       " 2000.0     6531\n",
       " 2500.0     5669\n",
       " 1200.0     4533\n",
       " 1250.0     3649\n",
       " 3000.0     2619\n",
       " 1100.0     2433\n",
       " 1800.0     1308\n",
       " 900.0       484\n",
       " 800.0       455\n",
       " 1300.0      419\n",
       " 850.0       378\n",
       " 1400.0      362\n",
       " 1600.0      337\n",
       " 500.0       306\n",
       " 700.0       287\n",
       " 1.0         280\n",
       " 1050.0      280\n",
       " 2200.0      255\n",
       " 1700.0      227\n",
       " 750.0       193\n",
       " 860.0       163\n",
       " 2800.0      153\n",
       " 1350.0      150\n",
       " 1140.0      141\n",
       " 600.0       133\n",
       " 100.0       132\n",
       "           ...  \n",
       " 118.0         1\n",
       " 248.0         1\n",
       " 2465.0        1\n",
       " 1335.0        1\n",
       " 268.0         1\n",
       " 233.0         1\n",
       " 544.0         1\n",
       " 530.0         1\n",
       " 1109.0        1\n",
       " 2356.0        1\n",
       " 558.0         1\n",
       " 1115.0        1\n",
       " 685.0         1\n",
       " 2225.0        1\n",
       " 1427.0        1\n",
       " 2088.0        1\n",
       " 31.0          1\n",
       " 1210.0        1\n",
       " 1558.0        1\n",
       " 2950.0        1\n",
       " 1001.0        1\n",
       " 1470.0        1\n",
       " 1552.0        1\n",
       " 320.0         1\n",
       " 370.0         1\n",
       " 865.0         1\n",
       " 111.0         1\n",
       " 89.0          1\n",
       " 1888.0        1\n",
       " 590.0         1\n",
       "Name: Column22, Length: 443, dtype: int64"
      ]
     },
     "execution_count": 335,
     "metadata": {},
     "output_type": "execute_result"
    }
   ],
   "source": [
    "#imputing mean\n",
    "test2['Column22'].value_counts(dropna=False)"
   ]
  },
  {
   "cell_type": "code",
   "execution_count": 336,
   "metadata": {},
   "outputs": [],
   "source": [
    "mean_value=test2['Column22'].mean()\n",
    "test2['Column22']=test2['Column22'].fillna(mean_value)"
   ]
  },
  {
   "cell_type": "code",
   "execution_count": 337,
   "metadata": {},
   "outputs": [],
   "source": [
    "median_value=test2['Column23'].median()\n",
    "test2['Column23']=test2['Column23'].fillna(median_value)"
   ]
  },
  {
   "cell_type": "code",
   "execution_count": 338,
   "metadata": {},
   "outputs": [
    {
     "name": "stdout",
     "output_type": "stream",
     "text": [
      "{'Column11': {'Type-206': 1, 'Type-240': 2, 'Type-291': 3, 'Type-326': 4, 'Type-367': 5}}\n"
     ]
    }
   ],
   "source": [
    "#encoding column 11\n",
    "labels = test2['Column11'].astype('category').cat.categories.tolist()\n",
    "replace_map_comp = {'Column11' : {k: v for k,v in zip(labels,list(range(1,len(labels)+1)))}}\n",
    "\n",
    "print(replace_map_comp)"
   ]
  },
  {
   "cell_type": "code",
   "execution_count": 339,
   "metadata": {},
   "outputs": [
    {
     "name": "stdout",
     "output_type": "stream",
     "text": [
      "0    4\n",
      "1    4\n",
      "2    1\n",
      "3    1\n",
      "4    1\n",
      "Name: Column11, dtype: int64\n"
     ]
    }
   ],
   "source": [
    "test2.replace(replace_map_comp, inplace=True)\n",
    "print(test2['Column11'].head())"
   ]
  },
  {
   "cell_type": "code",
   "execution_count": 340,
   "metadata": {},
   "outputs": [
    {
     "name": "stdout",
     "output_type": "stream",
     "text": [
      "{'Column8': {'MMT 2WD': 1, 'MMT DX 2WD': 2, 'MMT GCN': 3, 'VAR FE TT3': 4, 'VAR FE TT3 REF': 5, 'VAR GCN TT4': 6, 'VAR STD TT3': 7, 'VAR STD TT3 REF': 8, 'VAR STD TT3 REF PS': 9, 'VAR SULP DI TT3': 10, 'VAR SULP DI TT3 PS': 11, 'VAR SULP TT3': 12, 'VAR SULP TT3 PS': 13, 'VAR SULP TT4': 14, 'VAR SULP TT4 PS': 15, 'VAR SULP TT4 PS CBC': 16}}\n"
     ]
    }
   ],
   "source": [
    "#encoding column 8\n",
    "labels1 = test2['Column8'].astype('category').cat.categories.tolist()\n",
    "replace_map_comp1 = {'Column8' : {k: v for k,v in zip(labels1,list(range(1,len(labels1)+1)))}}\n",
    "\n",
    "print(replace_map_comp1)\n"
   ]
  },
  {
   "cell_type": "code",
   "execution_count": 341,
   "metadata": {},
   "outputs": [
    {
     "name": "stdout",
     "output_type": "stream",
     "text": [
      "0    10\n",
      "1    14\n",
      "2    11\n",
      "3    15\n",
      "4    13\n",
      "Name: Column8, dtype: int64\n"
     ]
    }
   ],
   "source": [
    "test2.replace(replace_map_comp1, inplace=True)\n",
    "print(test2['Column8'].head())"
   ]
  },
  {
   "cell_type": "code",
   "execution_count": 342,
   "metadata": {},
   "outputs": [
    {
     "name": "stdout",
     "output_type": "stream",
     "text": [
      "{'Column24': {'MAAV8527': 1, 'MALV6680': 2, 'MBJV14831': 3, 'MFMV14090': 4, 'MFTRV9754': 5, 'MKMV5934': 6, 'MMMV5201': 7, 'MNNV12321': 8, 'MOTV11811': 9, 'MPGV13018': 10, 'MRNV9809': 11, 'MSCIV8628': 12, 'MSILV4745': 13, 'MSIV9444': 14, 'MTTV8432': 15, 'MTVV11032': 16}}\n"
     ]
    }
   ],
   "source": [
    "labels3 = test2['Column24'].astype('category').cat.categories.tolist()\n",
    "replace_map_comp3 = {'Column24' : {k: v for k,v in zip(labels3,list(range(1,len(labels3)+1)))}}\n",
    "\n",
    "print(replace_map_comp3)"
   ]
  },
  {
   "cell_type": "code",
   "execution_count": 343,
   "metadata": {},
   "outputs": [
    {
     "name": "stdout",
     "output_type": "stream",
     "text": [
      "0    5\n",
      "1    5\n",
      "2    5\n",
      "3    5\n",
      "4    5\n",
      "Name: Column24, dtype: int64\n"
     ]
    }
   ],
   "source": [
    "test2.replace(replace_map_comp3, inplace=True)\n",
    "print(test2['Column24'].head())"
   ]
  },
  {
   "cell_type": "code",
   "execution_count": 344,
   "metadata": {},
   "outputs": [
    {
     "name": "stdout",
     "output_type": "stream",
     "text": [
      "{'Column25': {'M207C366': 1, 'M3WC484': 2, 'M3WLC288': 3, 'M3WVLC490': 4, 'M407C478': 5, 'MAC1C442': 6, 'MAHEC465': 7, 'MALC416': 8, 'MAMTC330': 9, 'MAPC370': 10, 'MAPEC287': 11, 'MATPC187': 12, 'MBLC451': 13, 'MBMC478': 14, 'MCDCC489': 15, 'MCLC206': 16, 'MCMC184': 17, 'MCPC434': 18, 'MDTC240': 19, 'MFTRC322': 20, 'MGCC486': 21, 'MGDCC141': 22, 'MGIOC405': 23, 'MGIOPC419': 24, 'MGSCC179': 25, 'MJEC268': 26, 'MKGC494': 27, 'MKKC229': 28, 'MKM2C342': 29, 'MKM3C298': 30, 'MLOC123': 31, 'MMDC159': 32, 'MMGC353': 33, 'MMIC217': 34, 'MMLC137': 35, 'MMMVC205': 36, 'MMXLC411': 37, 'MMXTC301': 38, 'MNNC253': 39, 'MOTHC256': 40, 'MPUPC287': 41, 'MRE60C435': 42, 'MREC307': 43, 'MSAC149': 44, 'MSCRC165': 45, 'MSGC374': 46, 'MSHC198': 47, 'MT15C184': 48, 'MT40C420': 49, 'MTCC192': 50, 'MTFC136': 51, 'MTGC410': 52, 'MTMC199': 53, 'MTTC212': 54, 'MTXC348': 55, 'MVKC205': 56, 'MVKRC387': 57, 'MZPC395': 58}}\n"
     ]
    }
   ],
   "source": [
    "labels4 = test2['Column25'].astype('category').cat.categories.tolist()\n",
    "replace_map_comp4 = {'Column25' : {k: v for k,v in zip(labels4,list(range(1,len(labels4)+1)))}}\n",
    "\n",
    "print(replace_map_comp4)"
   ]
  },
  {
   "cell_type": "code",
   "execution_count": 345,
   "metadata": {},
   "outputs": [
    {
     "name": "stdout",
     "output_type": "stream",
     "text": [
      "0    20\n",
      "1    20\n",
      "2    20\n",
      "3    20\n",
      "4    20\n",
      "Name: Column25, dtype: int64\n"
     ]
    }
   ],
   "source": [
    "test2.replace(replace_map_comp4, inplace=True)\n",
    "print(test2['Column25'].head())"
   ]
  },
  {
   "cell_type": "code",
   "execution_count": 346,
   "metadata": {},
   "outputs": [
    {
     "name": "stdout",
     "output_type": "stream",
     "text": [
      "{'Column26': {'USG1': 1, 'USG2': 2, 'USG3': 3, 'USG4': 4}}\n"
     ]
    }
   ],
   "source": [
    "labels5 = test2['Column26'].astype('category').cat.categories.tolist()\n",
    "replace_map_comp5 = {'Column26' : {k: v for k,v in zip(labels5,list(range(1,len(labels5)+1)))}}\n",
    "\n",
    "print(replace_map_comp5)"
   ]
  },
  {
   "cell_type": "code",
   "execution_count": 347,
   "metadata": {},
   "outputs": [
    {
     "name": "stdout",
     "output_type": "stream",
     "text": [
      "0    2\n",
      "1    4\n",
      "2    4\n",
      "3    4\n",
      "4    4\n",
      "Name: Column26, dtype: int64\n"
     ]
    }
   ],
   "source": [
    "test2.replace(replace_map_comp5, inplace=True)\n",
    "print(test2['Column26'].head())"
   ]
  },
  {
   "cell_type": "code",
   "execution_count": 348,
   "metadata": {},
   "outputs": [
    {
     "name": "stdout",
     "output_type": "stream",
     "text": [
      "{'Column27': {'LOTYPE100': 1, 'LOTYPE1000': 2, 'LOTYPE500': 3}}\n"
     ]
    }
   ],
   "source": [
    "labels6 = test2['Column27'].astype('category').cat.categories.tolist()\n",
    "replace_map_comp6 = {'Column27' : {k: v for k,v in zip(labels6,list(range(1,len(labels6)+1)))}}\n",
    "\n",
    "print(replace_map_comp6)"
   ]
  },
  {
   "cell_type": "code",
   "execution_count": 349,
   "metadata": {},
   "outputs": [
    {
     "name": "stdout",
     "output_type": "stream",
     "text": [
      "0    3\n",
      "1    2\n",
      "2    2\n",
      "3    3\n",
      "4    2\n",
      "Name: Column27, dtype: int64\n"
     ]
    }
   ],
   "source": [
    "test2.replace(replace_map_comp6, inplace=True)\n",
    "print(test2['Column27'].head())"
   ]
  },
  {
   "cell_type": "code",
   "execution_count": 350,
   "metadata": {},
   "outputs": [
    {
     "name": "stdout",
     "output_type": "stream",
     "text": [
      "{'Column28': {'APFIL14991': 1, 'APFIL24807': 2, 'APFIL31755': 3, 'APFPTV104077': 4, 'APFPTV111550': 5, 'APFPTV123179': 6, 'APFPTV133257': 7, 'APFPTV141468': 8, 'APFPTV14547': 9, 'APFPTV154265': 10, 'APFPTV2784': 11, 'APFPTV31635': 12, 'APFPTV43652': 13, 'APFPTV54157': 14, 'APFPTV62618': 15, 'APFPTV73341': 16, 'APFPTV8323': 17, 'APFPTV9946': 18, 'APHRNG1692': 19, 'APHRNG24824': 20}}\n"
     ]
    }
   ],
   "source": [
    "labels7 = test2['Column28'].astype('category').cat.categories.tolist()\n",
    "replace_map_comp7 = {'Column28' : {k: v for k,v in zip(labels7,list(range(1,len(labels7)+1)))}}\n",
    "\n",
    "print(replace_map_comp7)"
   ]
  },
  {
   "cell_type": "code",
   "execution_count": 351,
   "metadata": {},
   "outputs": [
    {
     "name": "stdout",
     "output_type": "stream",
     "text": [
      "0    10\n",
      "1    20\n",
      "2    20\n",
      "3     5\n",
      "4    20\n",
      "Name: Column28, dtype: int64\n"
     ]
    }
   ],
   "source": [
    "test2.replace(replace_map_comp7, inplace=True)\n",
    "print(test2['Column28'].head())"
   ]
  },
  {
   "cell_type": "code",
   "execution_count": 352,
   "metadata": {},
   "outputs": [
    {
     "name": "stdout",
     "output_type": "stream",
     "text": [
      "{'Column2': {'A121': 1, 'B191': 2, 'C818': 3, 'D452': 4, 'E919': 5}}\n"
     ]
    }
   ],
   "source": [
    "labels8 = test2['Column2'].astype('category').cat.categories.tolist()\n",
    "replace_map_comp8 = {'Column2' : {k: v for k,v in zip(labels8,list(range(1,len(labels8)+1)))}}\n",
    "\n",
    "print(replace_map_comp8)"
   ]
  },
  {
   "cell_type": "code",
   "execution_count": 353,
   "metadata": {},
   "outputs": [
    {
     "name": "stdout",
     "output_type": "stream",
     "text": [
      "0    3\n",
      "1    3\n",
      "2    3\n",
      "3    4\n",
      "4    2\n",
      "Name: Column2, dtype: int64\n"
     ]
    }
   ],
   "source": [
    "test2.replace(replace_map_comp8, inplace=True)\n",
    "print(test2['Column2'].head())"
   ]
  },
  {
   "cell_type": "code",
   "execution_count": 354,
   "metadata": {},
   "outputs": [],
   "source": [
    "del test2['Column4']\n",
    "del test2['Column5']"
   ]
  },
  {
   "cell_type": "code",
   "execution_count": 355,
   "metadata": {},
   "outputs": [
    {
     "name": "stdout",
     "output_type": "stream",
     "text": [
      "{'Column13': {'COM1': 1, 'COM2': 2, 'COM3': 3}}\n"
     ]
    }
   ],
   "source": [
    "labels10 = test2['Column13'].astype('category').cat.categories.tolist()\n",
    "replace_map_comp10 = {'Column13' : {k: v for k,v in zip(labels10,list(range(1,len(labels10)+1)))}}\n",
    "\n",
    "print(replace_map_comp10)"
   ]
  },
  {
   "cell_type": "code",
   "execution_count": 356,
   "metadata": {},
   "outputs": [
    {
     "name": "stdout",
     "output_type": "stream",
     "text": [
      "0    3\n",
      "1    1\n",
      "2    1\n",
      "3    1\n",
      "4    3\n",
      "Name: Column13, dtype: int64\n"
     ]
    }
   ],
   "source": [
    "test2.replace(replace_map_comp10, inplace=True)\n",
    "print(test2['Column13'].head())"
   ]
  },
  {
   "cell_type": "code",
   "execution_count": 357,
   "metadata": {},
   "outputs": [],
   "source": [
    "del test2['Column20']\n",
    "del test2['Column15']"
   ]
  },
  {
   "cell_type": "code",
   "execution_count": 359,
   "metadata": {},
   "outputs": [
    {
     "data": {
      "text/plain": [
       "(87098, 18)"
      ]
     },
     "execution_count": 359,
     "metadata": {},
     "output_type": "execute_result"
    }
   ],
   "source": [
    "test2.shape"
   ]
  },
  {
   "cell_type": "code",
   "execution_count": 360,
   "metadata": {},
   "outputs": [
    {
     "data": {
      "text/plain": [
       "(217744, 20)"
      ]
     },
     "execution_count": 360,
     "metadata": {},
     "output_type": "execute_result"
    }
   ],
   "source": [
    "train.shape"
   ]
  },
  {
   "cell_type": "code",
   "execution_count": 361,
   "metadata": {},
   "outputs": [
    {
     "name": "stdout",
     "output_type": "stream",
     "text": [
      "<class 'pandas.core.frame.DataFrame'>\n",
      "RangeIndex: 217744 entries, 0 to 217743\n",
      "Data columns (total 20 columns):\n",
      "Column1     217744 non-null int64\n",
      "Column2     217744 non-null int64\n",
      "Column3     217744 non-null int64\n",
      "Column7     204967 non-null float64\n",
      "Column8     217744 non-null int64\n",
      "Column9     217744 non-null int64\n",
      "Column10    217744 non-null int64\n",
      "Column11    217744 non-null int64\n",
      "Column13    217744 non-null int64\n",
      "Column14    217744 non-null int64\n",
      "Column22    217744 non-null float64\n",
      "Column23    217744 non-null float64\n",
      "Column24    217744 non-null int64\n",
      "Column25    217744 non-null int64\n",
      "Column26    217744 non-null int64\n",
      "Column27    217744 non-null int64\n",
      "Column28    217744 non-null int64\n",
      "Target      217744 non-null int64\n",
      "Month       217744 non-null int64\n",
      "year        217744 non-null int64\n",
      "dtypes: float64(3), int64(17)\n",
      "memory usage: 33.2 MB\n"
     ]
    }
   ],
   "source": [
    "train.info()"
   ]
  },
  {
   "cell_type": "code",
   "execution_count": 362,
   "metadata": {},
   "outputs": [
    {
     "name": "stdout",
     "output_type": "stream",
     "text": [
      "<class 'pandas.core.frame.DataFrame'>\n",
      "RangeIndex: 87098 entries, 0 to 87097\n",
      "Data columns (total 18 columns):\n",
      "Column1     87098 non-null int64\n",
      "Column2     87098 non-null int64\n",
      "Column3     87098 non-null int64\n",
      "Column6     87098 non-null datetime64[ns]\n",
      "Column7     82038 non-null float64\n",
      "Column8     87098 non-null int64\n",
      "Column9     87098 non-null int64\n",
      "Column10    87098 non-null int64\n",
      "Column11    87098 non-null int64\n",
      "Column13    87098 non-null int64\n",
      "Column14    87098 non-null int64\n",
      "Column22    87098 non-null float64\n",
      "Column23    87098 non-null float64\n",
      "Column24    87098 non-null int64\n",
      "Column25    87098 non-null int64\n",
      "Column26    87098 non-null int64\n",
      "Column27    87098 non-null int64\n",
      "Column28    87098 non-null int64\n",
      "dtypes: datetime64[ns](1), float64(3), int64(14)\n",
      "memory usage: 12.0 MB\n"
     ]
    }
   ],
   "source": [
    "test2.info()"
   ]
  },
  {
   "cell_type": "code",
   "execution_count": 363,
   "metadata": {},
   "outputs": [],
   "source": [
    "test2['Month'] = test2[\"Column6\"].dt.month\n",
    "test2[\"year\"] = test2[\"Column6\"].dt.year"
   ]
  },
  {
   "cell_type": "code",
   "execution_count": 364,
   "metadata": {},
   "outputs": [],
   "source": [
    "del test2['Column6']"
   ]
  },
  {
   "cell_type": "code",
   "execution_count": 365,
   "metadata": {},
   "outputs": [
    {
     "data": {
      "text/plain": [
       "(87098, 19)"
      ]
     },
     "execution_count": 365,
     "metadata": {},
     "output_type": "execute_result"
    }
   ],
   "source": [
    "test2.shape"
   ]
  },
  {
   "cell_type": "code",
   "execution_count": 366,
   "metadata": {},
   "outputs": [
    {
     "data": {
      "text/plain": [
       "(217744, 20)"
      ]
     },
     "execution_count": 366,
     "metadata": {},
     "output_type": "execute_result"
    }
   ],
   "source": [
    "train.shape"
   ]
  },
  {
   "cell_type": "code",
   "execution_count": 374,
   "metadata": {},
   "outputs": [
    {
     "name": "stdout",
     "output_type": "stream",
     "text": [
      "[0 0 1 ... 0 0 0]\n"
     ]
    },
    {
     "name": "stderr",
     "output_type": "stream",
     "text": [
      "E:\\ANACONDA\\lib\\site-packages\\sklearn\\preprocessing\\label.py:151: DeprecationWarning: The truth value of an empty array is ambiguous. Returning False, but in future this will result in an error. Use `array.size > 0` to check that an array is not empty.\n",
      "  if diff:\n"
     ]
    }
   ],
   "source": [
    "#predict on test dataset\n",
    "k_test=train_model2.predict(test2)\n",
    "print(k_test)\n"
   ]
  },
  {
   "cell_type": "code",
   "execution_count": 376,
   "metadata": {},
   "outputs": [],
   "source": [
    "subk=pd.DataFrame()\n",
    "subk['A']=k_test\n",
    "subk.to_csv('machinelearn_jatin_jethwa.csv',index=False)"
   ]
  },
  {
   "cell_type": "code",
   "execution_count": null,
   "metadata": {},
   "outputs": [],
   "source": [
    "#Model 2 results in greater accuracy\n",
    "#So used here model2 with hyparameter"
   ]
  }
 ],
 "metadata": {
  "kernelspec": {
   "display_name": "Python 3",
   "language": "python",
   "name": "python3"
  },
  "language_info": {
   "codemirror_mode": {
    "name": "ipython",
    "version": 3
   },
   "file_extension": ".py",
   "mimetype": "text/x-python",
   "name": "python",
   "nbconvert_exporter": "python",
   "pygments_lexer": "ipython3",
   "version": "3.6.4"
  }
 },
 "nbformat": 4,
 "nbformat_minor": 2
}
